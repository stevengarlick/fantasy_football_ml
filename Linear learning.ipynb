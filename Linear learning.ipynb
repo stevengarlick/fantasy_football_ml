{
 "cells": [
  {
   "cell_type": "code",
   "execution_count": 30,
   "metadata": {},
   "outputs": [],
   "source": [
    "import pandas as pd\n",
    "import sklearn\n",
    "from scipy import stats\n",
    "from sklearn import preprocessing\n",
    "from IPython.display import display\n",
    "import numpy as np\n",
    "import matplotlib.pyplot as plt\n",
    "from numpy import exp"
   ]
  },
  {
   "cell_type": "code",
   "execution_count": 44,
   "metadata": {},
   "outputs": [],
   "source": [
    "df = pd.read_csv('clean_data.csv',header=0, sep='|')"
   ]
  },
  {
   "cell_type": "code",
   "execution_count": 45,
   "metadata": {},
   "outputs": [],
   "source": [
    "df = df.drop(labels=['Unnamed: 0','team','opponent','roof','surface'], axis = 1)"
   ]
  },
  {
   "cell_type": "code",
   "execution_count": 46,
   "metadata": {},
   "outputs": [],
   "source": [
    "df1 = df[['ha','outdoors','dome','grass','temp','wind','spread','ou','implied','points-per-game_currseason',\n",
    "'points-per-game_lastseason','red-zone-scoring-attempts-per-game_currseason','red-zone-scoring-attempts-per-game_lastseason',\n",
    "'opponent-red-zone-scoring-attempts-per-game_currseason','opponent-red-zone-scoring-attempts-per-game_lastseason',\n",
    "'opponent-points-per-game_currseason','opponent-points-per-game_lastseason','yards-per-game_currseason',\n",
    "'yards-per-game_lastseason','opponent-yards-per-game_currseason','opponent-yards-per-game_lastseason',\n",
    "'first-downs-per-game_currseason','first-downs-per-game_lastseason','third-downs-per-game_currseason',\n",
    "'third-downs-per-game_lastseason','third-down-conversions-per-game_currseason','third-down-conversions-per-game_lastseason',\n",
    "'opponent-first-downs-per-game_currseason','opponent-first-downs-per-game_lastseason','opponent-third-downs-per-game_currseason',\n",
    "'opponent-third-downs-per-game_lastseason','opponent-third-down-conversions-per-game_currseason',\n",
    "'opponent-third-down-conversions-per-game_lastseason'      \n",
    "]]"
   ]
  },
  {
   "cell_type": "code",
   "execution_count": null,
   "metadata": {},
   "outputs": [],
   "source": [
    "dfs= pd.DataFrame(df1.iloc[:3583])"
   ]
  },
  {
   "cell_type": "code",
   "execution_count": null,
   "metadata": {},
   "outputs": [],
   "source": [
    "pre = pd.DataFrame(df1.iloc[3584:])"
   ]
  },
  {
   "cell_type": "code",
   "execution_count": 47,
   "metadata": {},
   "outputs": [],
   "source": [
    "dfs['temp'] = np.power(dfs['temp'],1.5)\n",
    "dfs['wind'] = np.log1p(dfs['wind'])\n",
    "dfs['ou'] = np.sqrt(dfs['ou'])\n",
    "dfs['implied'] = np.power(dfs['implied'],.67)\n",
    "#dfs['points-per-game_last1'] = np.power(dfs['points-per-game_last1'],.67)\n",
    "#dfs['red-zone-scoring-attempts-per-game_last3'] = np.power(dfs['red-zone-scoring-attempts-per-game_last3'],.7)\n",
    "#dfs['red-zone-scoring-attempts-per-game_last1'] = np.power(dfs['red-zone-scoring-attempts-per-game_last1'],.67)\n",
    "#dfs['fourth-downs-per-game_currseason'] = np.cbrt(dfs['fourth-downs-per-game_currseason'])\n",
    "#dfs['fourth-downs-per-game_last3'] = np.cbrt(dfs['fourth-downs-per-game_last3'])\n",
    "#dfs['fourth-downs-per-game_lastseason'] = np.cbrt(dfs['fourth-downs-per-game_lastseason'])\n",
    "#dfs['giveaways-per-game_currseason'] = np.log1p(dfs['giveaways-per-game_currseason'])\n",
    "#dfs['giveaways-per-game_lastseason'] = np.log1p(dfs['giveaways-per-game_lastseason'])\n",
    "#dfs['giveaways-per-game_last3'] = np.log1p(dfs['giveaways-per-game_last3'])\n",
    "#dfs['giveaways-per-game_last1'] = np.log1p(dfs['giveaways-per-game_last1'])\n",
    "#dfs['penalties-per-game_last1_x'] = np.sqrt(dfs['penalties-per-game_last1_x'])\n",
    "#dfs['penalty-yards-per-game_last1_x'] = np.sqrt(dfs['penalty-yards-per-game_last1_x'])\n",
    "#dfs['takeaways-per-game_currseason'] = np.log1p(dfs['takeaways-per-game_currseason'])\n",
    "#dfs['takeaways-per-game_last3'] = np.log1p(dfs['takeaways-per-game_last3'])\n",
    "#dfs['takeaways-per-game_last1'] = np.log1p(dfs['takeaways-per-game_last1'])\n",
    "#dfs['penalty-yards-per-game_last1_y'] = np.sqrt(dfs['penalty-yards-per-game_last1_y'])"
   ]
  },
  {
   "cell_type": "code",
   "execution_count": null,
   "metadata": {},
   "outputs": [],
   "source": [
    "dfs = dfs.drop(labels=['two-point-conversion-attempts-per-game_currseason',\n",
    "'two-point-conversion-attempts-per-game_last3',\n",
    "'two-point-conversion-attempts-per-game_last1',\n",
    "'two-point-conversion-attempts-per-game_lastseason',\n",
    "'two-point-conversions-per-game_currseason',\n",
    "'two-point-conversions-per-game_last3',\n",
    "'two-point-conversions-per-game_last1',\n",
    "'two-point-conversions-per-game_lastseason',\n",
    "'opponent-two-point-conversion-attempts-per-game_currseason',\n",
    "'opponent-two-point-conversion-attempts-per-game_last3',\n",
    "'opponent-two-point-conversion-attempts-per-game_last1',\n",
    "'opponent-two-point-conversion-attempts-per-game_lastseason',\n",
    "'opponent-two-point-conversions-per-game_currseason',\n",
    "'opponent-two-point-conversions-per-game_last3',\n",
    "'opponent-two-point-conversions-per-game_last1',\n",
    "'opponent-two-point-conversions-per-game_lastseason',\n",
    "'two-point-conversion-attempts-per-game_ha',\n",
    "'two-point-conversions-per-game_ha',\n",
    "], axis = 1)\n"
   ]
  },
  {
   "cell_type": "code",
   "execution_count": 48,
   "metadata": {},
   "outputs": [],
   "source": [
    "dfs['third-down-conversion-percentage_currseason'] = dfs['third-down-conversions-per-game_currseason'] / dfs['third-downs-per-game_currseason']\n",
    "dfs['third-down-conversion-percentage_lastseason'] = dfs['third-down-conversions-per-game_lastseason'] / dfs['third-downs-per-game_lastseason']\n",
    "dfs['opponent-third-down-conversion-percentage_currseason'] = dfs['opponent-third-down-conversions-per-game_currseason'] / dfs['opponent-third-downs-per-game_currseason']\n",
    "dfs['opponent-third-down-conversion-percentage_lastseason'] = dfs['opponent-third-down-conversions-per-game_lastseason'] / dfs['opponent-third-downs-per-game_lastseason']\n"
   ]
  },
  {
   "cell_type": "code",
   "execution_count": 49,
   "metadata": {},
   "outputs": [],
   "source": [
    "dfs = dfs.fillna(0)"
   ]
  },
  {
   "cell_type": "code",
   "execution_count": 51,
   "metadata": {},
   "outputs": [],
   "source": [
    "x = dfs.values"
   ]
  },
  {
   "cell_type": "code",
   "execution_count": null,
   "metadata": {},
   "outputs": [],
   "source": [
    "x = np.arcsinh(x)"
   ]
  },
  {
   "cell_type": "code",
   "execution_count": 56,
   "metadata": {},
   "outputs": [
    {
     "data": {
      "image/png": "[encoded data removed]",
      "text/plain": [
       "<Figure size 432x288 with 1 Axes>"
      ]
     },
     "metadata": {
      "needs_background": "light"
     },
     "output_type": "display_data"
    }
   ],
   "source": [
    "#plt.hist(np.log1p(dfs['takeaways-per-game_currseason']), bins=30)\n",
    "plt.hist(np.square(dfs['opponent-third-downs-per-game_currseason']), bins=30)\n",
    "\n",
    "dfs['opponent-third-downs-per-game_currseason'] = np.square(dfs['opponent-third-downs-per-game_currseason'])\n",
    "\n",
    "#x = np.log1p(dfs['wind'])\n",
    "#plt.hist(x, bins=10)\n",
    "#dfs2 = np.power(dfs['wind'],.3)"
   ]
  },
  {
   "cell_type": "code",
   "execution_count": null,
   "metadata": {},
   "outputs": [],
   "source": [
    "#plt.hist((dfs2), bins=30)\n",
    "\n",
    "param = stats.norm.fit((dfs2))  \n",
    "x = np.linspace(0, 20, 100)\n",
    "pdf_fitted = stats.norm.pdf(x, *param)\n",
    "\n",
    "plt.plot(x, pdf_fitted, color='r')"
   ]
  },
  {
   "cell_type": "code",
   "execution_count": 57,
   "metadata": {},
   "outputs": [],
   "source": [
    "from sklearn import preprocessing\n",
    "normalized_x = preprocessing.scale(x)"
   ]
  },
  {
   "cell_type": "code",
   "execution_count": 58,
   "metadata": {},
   "outputs": [],
   "source": [
    "dfs2=pd.DataFrame(normalized_x)"
   ]
  },
  {
   "cell_type": "code",
   "execution_count": 59,
   "metadata": {},
   "outputs": [],
   "source": [
    "min_max_scaler = preprocessing.MinMaxScaler()"
   ]
  },
  {
   "cell_type": "code",
   "execution_count": 60,
   "metadata": {},
   "outputs": [],
   "source": [
    "x_scaled = min_max_scaler.fit_transform(x)"
   ]
  },
  {
   "cell_type": "code",
   "execution_count": 61,
   "metadata": {},
   "outputs": [],
   "source": [
    "dfs2 = pd.DataFrame(x_scaled)"
   ]
  },
  {
   "cell_type": "code",
   "execution_count": 62,
   "metadata": {},
   "outputs": [],
   "source": [
    "dfs2.columns = ['ha','outdoors','dome','grass','temp','wind','spread','ou','implied','points-per-game_currseason',\n",
    "'points-per-game_lastseason','red-zone-scoring-attempts-per-game_currseason','red-zone-scoring-attempts-per-game_lastseason',\n",
    "'opponent-red-zone-scoring-attempts-per-game_currseason','opponent-red-zone-scoring-attempts-per-game_lastseason',\n",
    "'opponent-points-per-game_currseason','opponent-points-per-game_lastseason','yards-per-game_currseason',\n",
    "'yards-per-game_lastseason','opponent-yards-per-game_currseason','opponent-yards-per-game_lastseason',\n",
    "'first-downs-per-game_currseason','first-downs-per-game_lastseason','third-downs-per-game_currseason',\n",
    "'third-downs-per-game_lastseason','third-down-conversions-per-game_currseason','third-down-conversions-per-game_lastseason',\n",
    "'opponent-first-downs-per-game_currseason','opponent-first-downs-per-game_lastseason','opponent-third-downs-per-game_currseason',\n",
    "'opponent-third-downs-per-game_lastseason','opponent-third-down-conversions-per-game_currseason',\n",
    "'opponent-third-down-conversions-per-game_lastseason','third-down-conversion-percentage_currseason',\n",
    "'third-down-conversion-percentage_lastseason','opponent-third-down-conversion-percentage_currseason',\n",
    "'opponent-third-down-conversion-percentage_lastseason'\n",
    "]"
   ]
  },
  {
   "cell_type": "code",
   "execution_count": null,
   "metadata": {},
   "outputs": [],
   "source": [
    "display(dfs2.corr())\n",
    "pd.plotting.scatter_matrix(dfs2, figsize=(12, 12))\n",
    "plt.show()"
   ]
  },
  {
   "cell_type": "code",
   "execution_count": null,
   "metadata": {},
   "outputs": [],
   "source": [
    "dfs2.to_csv('/Users/User1/ml-seed-data/full_data_normal.csv', sep='|')"
   ]
  },
  {
   "cell_type": "code",
   "execution_count": 63,
   "metadata": {},
   "outputs": [],
   "source": [
    "from sklearn import datasets, linear_model\n",
    "from sklearn.metrics import mean_squared_error, r2_score\n"
   ]
  },
  {
   "cell_type": "code",
   "execution_count": 64,
   "metadata": {},
   "outputs": [],
   "source": [
    "from sklearn.linear_model import LinearRegression\n",
    "\n",
    "#x = dfs2.drop('fga', axis=1)\n",
    "\n",
    "x = dfs2[:3583]\n",
    "t = dfs2[3584:]\n",
    "x = x.astype('object')\n",
    "\n",
    "y = df['fga'].iloc[:3583]\n",
    "yt = df['fga'].iloc[3584:]"
   ]
  },
  {
   "cell_type": "code",
   "execution_count": null,
   "metadata": {},
   "outputs": [],
   "source": [
    "lm = LinearRegression()\n",
    "\n",
    "lm.fit(x, y)"
   ]
  },
  {
   "cell_type": "code",
   "execution_count": null,
   "metadata": {},
   "outputs": [],
   "source": [
    "print('Estimated Intercept Coefficient:' , lm.intercept_)"
   ]
  },
  {
   "cell_type": "code",
   "execution_count": null,
   "metadata": {},
   "outputs": [],
   "source": [
    "print('Number of Coefficients:' , len(lm.coef_))"
   ]
  },
  {
   "cell_type": "code",
   "execution_count": null,
   "metadata": {},
   "outputs": [],
   "source": [
    "pd.DataFrame(list(zip(x.columns,lm.coef_)), columns=['features','estimatedCoefficients'])"
   ]
  },
  {
   "cell_type": "code",
   "execution_count": null,
   "metadata": {},
   "outputs": [],
   "source": [
    "plt.scatter(dfs2['implied'],df['fga'])\n",
    "plt.xlabel('ou')\n",
    "plt.ylabel('Field Goals Attempted')\n",
    "plt.show"
   ]
  },
  {
   "cell_type": "code",
   "execution_count": null,
   "metadata": {},
   "outputs": [],
   "source": [
    "plt.scatter(lm.predict(x),y)\n",
    "plt.ylabel('Field Goals Attempted')\n",
    "plt.xlabel('Predicted Field Goals Attempted')\n",
    "plt.show"
   ]
  },
  {
   "cell_type": "code",
   "execution_count": 66,
   "metadata": {},
   "outputs": [
    {
     "name": "stdout",
     "output_type": "stream",
     "text": [
      "(2400, 37)\n",
      "(2400,)\n",
      "(1183, 37)\n",
      "(1183,)\n"
     ]
    }
   ],
   "source": [
    "from sklearn.model_selection import train_test_split\n",
    "x_train, x_test, y_train, y_test = train_test_split( x, y, test_size=0.33, random_state=5)\n",
    "print(x_train.shape)\n",
    "print(y_train.shape)\n",
    "print(x_test.shape)\n",
    "print(y_test.shape)"
   ]
  },
  {
   "cell_type": "code",
   "execution_count": null,
   "metadata": {},
   "outputs": [],
   "source": [
    "lm = LinearRegression()\n",
    "lm.fit(x_train, y_train)\n",
    "pred_train=lm.predict(x_train)\n",
    "pred_test=lm.predict(x_test)"
   ]
  },
  {
   "cell_type": "code",
   "execution_count": 68,
   "metadata": {},
   "outputs": [],
   "source": [
    "from sklearn.preprocessing import PolynomialFeatures\n",
    "poly_reg = PolynomialFeatures(degree = 2)\n",
    "X_poly = poly_reg.fit_transform(x)\n",
    "poly_reg.fit(X_poly, y)\n",
    "lin_reg_2 = LinearRegression()\n",
    "lin_reg_2.fit(X_poly, y)\n",
    "\n",
    "\n",
    "pred_train = lin_reg_2.predict(poly_reg.fit_transform(x_train))\n",
    "pred_test = lin_reg_2.predict(poly_reg.fit_transform(x_test))\n"
   ]
  },
  {
   "cell_type": "code",
   "execution_count": 69,
   "metadata": {},
   "outputs": [
    {
     "name": "stdout",
     "output_type": "stream",
     "text": [
      "Fit a model X_train, and calculate MSE with Y_train: 1.4098814737020682\n",
      "Fit a model X_train, and calculate MSE with X_test, Y_test: 1.4848906018425627\n"
     ]
    }
   ],
   "source": [
    "print('Fit a model X_train, and calculate MSE with Y_train:', np.mean((y_train-lin_reg_2.predict(poly_reg.fit_transform(x_train))) ** 2))\n",
    "print('Fit a model X_train, and calculate MSE with X_test, Y_test:', np.mean((y_test-lin_reg_2.predict(poly_reg.fit_transform(x_test))) ** 2))"
   ]
  },
  {
   "cell_type": "code",
   "execution_count": 70,
   "metadata": {},
   "outputs": [
    {
     "ename": "NameError",
     "evalue": "name 'lm' is not defined",
     "output_type": "error",
     "traceback": [
      "\u001b[1;31m---------------------------------------------------------------------------\u001b[0m",
      "\u001b[1;31mNameError\u001b[0m                                 Traceback (most recent call last)",
      "\u001b[1;32m<ipython-input-70-5473557affb1>\u001b[0m in \u001b[0;36m<module>\u001b[1;34m()\u001b[0m\n\u001b[1;32m----> 1\u001b[1;33m \u001b[0mplt\u001b[0m\u001b[1;33m.\u001b[0m\u001b[0mscatter\u001b[0m\u001b[1;33m(\u001b[0m\u001b[0mlm\u001b[0m\u001b[1;33m.\u001b[0m\u001b[0mpredict\u001b[0m\u001b[1;33m(\u001b[0m\u001b[0mx_train\u001b[0m\u001b[1;33m)\u001b[0m\u001b[1;33m,\u001b[0m \u001b[0mlin_reg_2\u001b[0m\u001b[1;33m.\u001b[0m\u001b[0mpredict\u001b[0m\u001b[1;33m(\u001b[0m\u001b[0mpoly_reg\u001b[0m\u001b[1;33m.\u001b[0m\u001b[0mfit_transform\u001b[0m\u001b[1;33m(\u001b[0m\u001b[0mx_train\u001b[0m\u001b[1;33m)\u001b[0m\u001b[1;33m)\u001b[0m \u001b[1;33m-\u001b[0m \u001b[0my_train\u001b[0m\u001b[1;33m,\u001b[0m \u001b[0mc\u001b[0m\u001b[1;33m=\u001b[0m\u001b[1;34m'b'\u001b[0m\u001b[1;33m,\u001b[0m \u001b[0ms\u001b[0m\u001b[1;33m=\u001b[0m\u001b[1;36m10\u001b[0m\u001b[1;33m,\u001b[0m \u001b[0malpha\u001b[0m \u001b[1;33m=\u001b[0m \u001b[1;36m0.5\u001b[0m\u001b[1;33m)\u001b[0m\u001b[1;33m\u001b[0m\u001b[0m\n\u001b[0m\u001b[0;32m      2\u001b[0m \u001b[0mplt\u001b[0m\u001b[1;33m.\u001b[0m\u001b[0mscatter\u001b[0m\u001b[1;33m(\u001b[0m\u001b[0mlm\u001b[0m\u001b[1;33m.\u001b[0m\u001b[0mpredict\u001b[0m\u001b[1;33m(\u001b[0m\u001b[0mx_test\u001b[0m\u001b[1;33m)\u001b[0m\u001b[1;33m,\u001b[0m \u001b[0mlin_reg_2\u001b[0m\u001b[1;33m.\u001b[0m\u001b[0mpredict\u001b[0m\u001b[1;33m(\u001b[0m\u001b[0mpoly_reg\u001b[0m\u001b[1;33m.\u001b[0m\u001b[0mfit_transform\u001b[0m\u001b[1;33m(\u001b[0m\u001b[0mx_test\u001b[0m\u001b[1;33m)\u001b[0m\u001b[1;33m)\u001b[0m \u001b[1;33m-\u001b[0m \u001b[0my_test\u001b[0m\u001b[1;33m,\u001b[0m \u001b[0mc\u001b[0m\u001b[1;33m=\u001b[0m\u001b[1;34m'g'\u001b[0m\u001b[1;33m,\u001b[0m \u001b[0ms\u001b[0m\u001b[1;33m=\u001b[0m\u001b[1;36m10\u001b[0m\u001b[1;33m)\u001b[0m\u001b[1;33m\u001b[0m\u001b[0m\n\u001b[0;32m      3\u001b[0m \u001b[0mplt\u001b[0m\u001b[1;33m.\u001b[0m\u001b[0mhlines\u001b[0m\u001b[1;33m(\u001b[0m\u001b[0my\u001b[0m\u001b[1;33m=\u001b[0m\u001b[1;36m0\u001b[0m\u001b[1;33m,\u001b[0m \u001b[0mxmin\u001b[0m\u001b[1;33m=\u001b[0m\u001b[1;36m0\u001b[0m\u001b[1;33m,\u001b[0m \u001b[0mxmax\u001b[0m\u001b[1;33m=\u001b[0m\u001b[1;36m.6\u001b[0m\u001b[1;33m)\u001b[0m\u001b[1;33m\u001b[0m\u001b[0m\n",
      "\u001b[1;31mNameError\u001b[0m: name 'lm' is not defined"
     ]
    }
   ],
   "source": [
    "plt.scatter(lm.predict(x_train), lin_reg_2.predict(poly_reg.fit_transform(x_train)) - y_train, c='b', s=10, alpha = 0.5)\n",
    "plt.scatter(lm.predict(x_test), lin_reg_2.predict(poly_reg.fit_transform(x_test)) - y_test, c='g', s=10)\n",
    "plt.hlines(y=0, xmin=0, xmax=.6)"
   ]
  },
  {
   "cell_type": "code",
   "execution_count": null,
   "metadata": {},
   "outputs": [],
   "source": [
    "pre = dfs2.iloc[3584:]\n",
    "df['fga'].iloc[3584:]"
   ]
  },
  {
   "cell_type": "code",
   "execution_count": null,
   "metadata": {},
   "outputs": [],
   "source": [
    "pred_train = lin_reg_2.predict(poly_reg.fit_transform(x_train))\n",
    "pred_test = lin_reg_2.predict(poly_reg.fit_transform(pre))"
   ]
  },
  {
   "cell_type": "code",
   "execution_count": null,
   "metadata": {},
   "outputs": [],
   "source": [
    "df6=pd.DataFrame(pred_test)"
   ]
  },
  {
   "cell_type": "code",
   "execution_count": null,
   "metadata": {},
   "outputs": [],
   "source": [
    "df6"
   ]
  },
  {
   "cell_type": "code",
   "execution_count": null,
   "metadata": {},
   "outputs": [],
   "source": [
    "df6.to_csv('scores3.csv', sep='|')"
   ]
  },
  {
   "cell_type": "code",
   "execution_count": null,
   "metadata": {},
   "outputs": [],
   "source": [
    "df6.to_csv('scores3.csv', sep='|')"
   ]
  },
  {
   "cell_type": "code",
   "execution_count": null,
   "metadata": {},
   "outputs": [],
   "source": [
    "x.iloc[3584:]"
   ]
  },
  {
   "cell_type": "code",
   "execution_count": null,
   "metadata": {},
   "outputs": [],
   "source": [
    "r2_score(df['fga'].iloc[3552:],df6)"
   ]
  },
  {
   "cell_type": "code",
   "execution_count": null,
   "metadata": {},
   "outputs": [],
   "source": []
  }
 ],
 "metadata": {
  "kernelspec": {
   "display_name": "Python 3",
   "language": "python",
   "name": "python3"
  },
  "language_info": {
   "codemirror_mode": {
    "name": "ipython",
    "version": 3
   },
   "file_extension": ".py",
   "mimetype": "text/x-python",
   "name": "python",
   "nbconvert_exporter": "python",
   "pygments_lexer": "ipython3",
   "version": "3.6.3"
  }
 },
 "nbformat": 4,
 "nbformat_minor": 2
}
