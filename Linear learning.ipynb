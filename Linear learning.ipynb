{
 "cells": [
  {
   "cell_type": "code",
   "execution_count": 150,
   "metadata": {},
   "outputs": [],
   "source": [
    "import pandas as pd\n",
    "import sklearn\n",
    "from sklearn import preprocessing\n",
    "from IPython.display import display\n",
    "import numpy as np\n",
    "import matplotlib.pyplot as plt\n",
    "from numpy import exp"
   ]
  },
  {
   "cell_type": "code",
   "execution_count": 98,
   "metadata": {},
   "outputs": [],
   "source": [
    "df = pd.read_csv('/Users/User1/ml-seed-data/clean_data.csv',header=0, sep=',')"
   ]
  },
  {
   "cell_type": "code",
   "execution_count": null,
   "metadata": {},
   "outputs": [],
   "source": [
    "df"
   ]
  },
  {
   "cell_type": "code",
   "execution_count": 100,
   "metadata": {},
   "outputs": [],
   "source": [
    "df = df.drop(labels=['team','opponent','roof','surface'], axis = 1)"
   ]
  },
  {
   "cell_type": "code",
   "execution_count": 101,
   "metadata": {},
   "outputs": [],
   "source": [
    "dfs = df.drop(labels=['year','fga'], axis = 1)"
   ]
  },
  {
   "cell_type": "code",
   "execution_count": 119,
   "metadata": {},
   "outputs": [],
   "source": [
    "x = dfs.values"
   ]
  },
  {
   "cell_type": "code",
   "execution_count": 120,
   "metadata": {},
   "outputs": [],
   "source": [
    "from sklearn import preprocessing\n",
    "normalized_x = preprocessing.scale(x)"
   ]
  },
  {
   "cell_type": "code",
   "execution_count": 121,
   "metadata": {},
   "outputs": [],
   "source": [
    "dfs2=pd.DataFrame(normalized_x)"
   ]
  },
  {
   "cell_type": "code",
   "execution_count": 19,
   "metadata": {},
   "outputs": [],
   "source": [
    "min_max_scaler = preprocessing.MinMaxScaler()"
   ]
  },
  {
   "cell_type": "code",
   "execution_count": 54,
   "metadata": {},
   "outputs": [],
   "source": [
    "x_scaled = min_max_scaler.fit_transform(x)"
   ]
  },
  {
   "cell_type": "code",
   "execution_count": 55,
   "metadata": {},
   "outputs": [],
   "source": [
    "dfs2 = pd.DataFrame(x_scaled)"
   ]
  },
  {
   "cell_type": "code",
   "execution_count": 122,
   "metadata": {},
   "outputs": [],
   "source": [
    "dfs2.columns = ['week','ha','outdoors','dome','retractable_open','retractable_closed','grass','temp','wind','spread','ou','implied','points-per-game_currseason','points-per-game_last3','points-per-game_last1','points-per-game_lastseason','red-zone-scoring-attempts-per-game_currseason','red-zone-scoring-attempts-per-game_last3','red-zone-scoring-attempts-per-game_last1',\t'red-zone-scoring-attempts-per-game_lastseason','red-zone-scoring-pct_currseason','red-zone-scoring-pct_last3','red-zone-scoring-pct_last1','red-zone-scoring-pct_lastseason','two-point-conversion-attempts-per-game_currseason','two-point-conversion-attempts-per-game_last3','two-point-conversion-attempts-per-game_last1','two-point-conversion-attempts-per-game_lastseason','two-point-conversions-per-game_currseason','two-point-conversions-per-game_last3',\t'two-point-conversions-per-game_last1',\t'two-point-conversions-per-game_lastseason',\t'yards-per-game_currseason',\t'yards-per-game_last3',\t'yards-per-game_last1',\t'yards-per-game_lastseason',\t'plays-per-game_currseason',\t'plays-per-game_last3',\t'plays-per-game_last1',\t'plays-per-game_lastseason',\t'fourth-downs-per-game_currseason',\t'fourth-downs-per-game_last3',\t'fourth-downs-per-game_last1',\t'fourth-downs-per-game_lastseason',\t'fourth-down-conversion-pct_currseason',\t'fourth-down-conversion-pct_last3',\t'fourth-down-conversion-pct_last1',\t'fourth-down-conversion-pct_lastseason',\t'giveaways-per-game_currseason',\t'giveaways-per-game_last3',\t'giveaways-per-game_last1',\t'giveaways-per-game_lastseason',\t'penalties-per-game_currseason_x',\t'penalties-per-game_last3_x',\t'penalties-per-game_last1_x',\t'penalties-per-game_lastseason_x',\t'penalty-yards-per-game_currseason_x',\t'penalty-yards-per-game_last3_x',\t'penalty-yards-per-game_last1_x',\t'penalty-yards-per-game_lastseason_x',\t'opponent-points-per-game_currseason',\t'opponent-points-per-game_last3',\t'opponent-points-per-game_last1',\t'opponent-points-per-game_lastseason',\t'opponent-red-zone-scoring-attempts-per-game_currseason',\t'opponent-red-zone-scoring-attempts-per-game_last3',\t'opponent-red-zone-scoring-attempts-per-game_last1',\t'opponent-red-zone-scoring-attempts-per-game_lastseason',\t'opponent-red-zone-scoring-pct_currseason',\t'opponent-red-zone-scoring-pct_last3',\t'opponent-red-zone-scoring-pct_last1',\t'opponent-red-zone-scoring-pct_lastseason',\t'opponent-two-point-conversion-attempts-per-game_currseason',\t'opponent-two-point-conversion-attempts-per-game_last3',\t'opponent-two-point-conversion-attempts-per-game_last1',\t'opponent-two-point-conversion-attempts-per-game_lastseason',\t'opponent-two-point-conversions-per-game_currseason',\t'opponent-two-point-conversions-per-game_last3',\t'opponent-two-point-conversions-per-game_last1',\t'opponent-two-point-conversions-per-game_lastseason',\t'opponent-yards-per-game_currseason',\t'opponent-yards-per-game_last3',\t'opponent-yards-per-game_last1',\t'opponent-yards-per-game_lastseason',\t'opponent-plays-per-game_currseason',\t'opponent-plays-per-game_last3',\t'opponent-plays-per-game_last1',\t'opponent-plays-per-game_lastseason',\t'opponent-fourth-downs-per-game_currseason',\t'opponent-fourth-downs-per-game_last3',\t'opponent-fourth-downs-per-game_last1',\t'opponent-fourth-downs-per-game_lastseason',\t'opponent-fourth-down-conversion-pct_currseason',\t'opponent-fourth-down-conversion-pct_last3',\t'opponent-fourth-down-conversion-pct_last1',\t'opponent-fourth-down-conversion-pct_lastseason',\t'takeaways-per-game_currseason',\t'takeaways-per-game_last3',\t'takeaways-per-game_last1',\t'takeaways-per-game_lastseason',\t'penalties-per-game_currseason_y',\t'penalties-per-game_last3_y',\t'penalties-per-game_last1_y',\t'penalties-per-game_lastseason_y',\t'penalty-yards-per-game_currseason_y',\t'penalty-yards-per-game_last3_y',\t'penalty-yards-per-game_last1_y',\t'penalty-yards-per-game_lastseason_y',\t'points-per-game_ha',\t'red-zone-scoring-attempts-per-game_ha',\t'red-zone-scoring-pct_ha',\t'two-point-conversion-attempts-per-game_ha',\t'two-point-conversions-per-game_ha',\t'yards-per-game_ha',\t'plays-per-game_ha',\t'fourth-downs-per-game_ha',\t'fourth-down-conversion-pct_ha',\t'giveaways-per-game_ha',\t'penalties-per-game_ha',\t'penalty-yards-per-game_ha',\t'opponent-points-per-game_ha',\t'opponent-red-zone-scoring-attempts-per-game_ha',\t'opponent-red-zone-scoring-pct_ha',\t'opponent-two-point-conversion-attempts-per-game_ha',\t'opponent-two-point-conversions-per-game_ha',\t'opponent-yards-per-game_ha',\t'opponent-plays-per-game_ha',\t'opponent-fourth-downs-per-game_ha',\t'opponent-fourth-down-conversion-pct_ha',\t'opponent-giveaways-per-game_ha',\t'opponent-penalties-per-game_ha',\t'opponent-penalty-yards-per-game_ha']"
   ]
  },
  {
   "cell_type": "code",
   "execution_count": 48,
   "metadata": {},
   "outputs": [],
   "source": [
    "dfs2['temp'] = np.log(dfs2['temp'])"
   ]
  },
  {
   "cell_type": "code",
   "execution_count": 162,
   "metadata": {},
   "outputs": [
    {
     "ename": "ValueError",
     "evalue": "Data must be positive.",
     "output_type": "error",
     "traceback": [
      "\u001b[1;31m---------------------------------------------------------------------------\u001b[0m",
      "\u001b[1;31mValueError\u001b[0m                                Traceback (most recent call last)",
      "\u001b[1;32m<ipython-input-162-b5a52740bcbf>\u001b[0m in \u001b[0;36m<module>\u001b[1;34m()\u001b[0m\n\u001b[0;32m      1\u001b[0m \u001b[1;32mfrom\u001b[0m \u001b[0mscipy\u001b[0m\u001b[1;33m.\u001b[0m\u001b[0mstats\u001b[0m \u001b[1;32mimport\u001b[0m \u001b[0mboxcox\u001b[0m\u001b[1;33m\u001b[0m\u001b[0m\n\u001b[0;32m      2\u001b[0m \u001b[1;33m\u001b[0m\u001b[0m\n\u001b[1;32m----> 3\u001b[1;33m \u001b[0mhist\u001b[0m \u001b[1;33m=\u001b[0m \u001b[0mboxcox\u001b[0m\u001b[1;33m(\u001b[0m\u001b[0mdfs\u001b[0m\u001b[1;33m[\u001b[0m\u001b[1;34m'wind'\u001b[0m\u001b[1;33m]\u001b[0m\u001b[1;33m,\u001b[0m\u001b[1;33m-\u001b[0m\u001b[1;36m0.5\u001b[0m\u001b[1;33m)\u001b[0m\u001b[1;33m\u001b[0m\u001b[0m\n\u001b[0m\u001b[0;32m      4\u001b[0m \u001b[1;33m\u001b[0m\u001b[0m\n\u001b[0;32m      5\u001b[0m \u001b[0mplt\u001b[0m\u001b[1;33m.\u001b[0m\u001b[0mhist\u001b[0m\u001b[1;33m(\u001b[0m\u001b[0mdfs\u001b[0m\u001b[1;33m[\u001b[0m\u001b[1;34m'wind'\u001b[0m\u001b[1;33m]\u001b[0m\u001b[1;33m)\u001b[0m\u001b[1;33m\u001b[0m\u001b[0m\n",
      "\u001b[1;32mc:\\users\\user1\\appdata\\local\\programs\\python\\python36\\lib\\site-packages\\scipy\\stats\\morestats.py\u001b[0m in \u001b[0;36mboxcox\u001b[1;34m(x, lmbda, alpha)\u001b[0m\n\u001b[0;32m   1028\u001b[0m \u001b[1;33m\u001b[0m\u001b[0m\n\u001b[0;32m   1029\u001b[0m     \u001b[1;32mif\u001b[0m \u001b[0many\u001b[0m\u001b[1;33m(\u001b[0m\u001b[0mx\u001b[0m \u001b[1;33m<=\u001b[0m \u001b[1;36m0\u001b[0m\u001b[1;33m)\u001b[0m\u001b[1;33m:\u001b[0m\u001b[1;33m\u001b[0m\u001b[0m\n\u001b[1;32m-> 1030\u001b[1;33m         \u001b[1;32mraise\u001b[0m \u001b[0mValueError\u001b[0m\u001b[1;33m(\u001b[0m\u001b[1;34m\"Data must be positive.\"\u001b[0m\u001b[1;33m)\u001b[0m\u001b[1;33m\u001b[0m\u001b[0m\n\u001b[0m\u001b[0;32m   1031\u001b[0m \u001b[1;33m\u001b[0m\u001b[0m\n\u001b[0;32m   1032\u001b[0m     \u001b[1;32mif\u001b[0m \u001b[0mlmbda\u001b[0m \u001b[1;32mis\u001b[0m \u001b[1;32mnot\u001b[0m \u001b[1;32mNone\u001b[0m\u001b[1;33m:\u001b[0m  \u001b[1;31m# single transformation\u001b[0m\u001b[1;33m\u001b[0m\u001b[0m\n",
      "\u001b[1;31mValueError\u001b[0m: Data must be positive."
     ]
    }
   ],
   "source": [
    "from scipy.stats import boxcox\n",
    "\n",
    "hist = boxcox(dfs['wind'],-0.5)\n",
    "\n",
    "plt.hist(dfs['wind'])"
   ]
  },
  {
   "cell_type": "code",
   "execution_count": null,
   "metadata": {},
   "outputs": [],
   "source": [
    "display(dfs2.corr())\n",
    "pd.plotting.scatter_matrix(dfs2, figsize=(12, 12))\n",
    "plt.show()"
   ]
  },
  {
   "cell_type": "code",
   "execution_count": 37,
   "metadata": {},
   "outputs": [],
   "source": [
    "dfs2.to_csv('/Users/User1/ml-seed-data/full_data_normal.csv', sep='|')"
   ]
  },
  {
   "cell_type": "code",
   "execution_count": 68,
   "metadata": {},
   "outputs": [],
   "source": [
    "from sklearn import datasets, linear_model\n",
    "from sklearn.metrics import mean_squared_error, r2_score\n"
   ]
  },
  {
   "cell_type": "code",
   "execution_count": 123,
   "metadata": {},
   "outputs": [],
   "source": [
    "from sklearn.linear_model import LinearRegression\n",
    "\n",
    "#x = dfs2.drop('fga', axis=1)\n",
    "\n",
    "x = dfs2"
   ]
  },
  {
   "cell_type": "code",
   "execution_count": 124,
   "metadata": {},
   "outputs": [
    {
     "data": {
      "text/plain": [
       "LinearRegression(copy_X=True, fit_intercept=True, n_jobs=1, normalize=False)"
      ]
     },
     "execution_count": 124,
     "metadata": {},
     "output_type": "execute_result"
    }
   ],
   "source": [
    "lm = LinearRegression()\n",
    "\n",
    "lm.fit(x, df.fga)"
   ]
  },
  {
   "cell_type": "code",
   "execution_count": 125,
   "metadata": {},
   "outputs": [
    {
     "name": "stdout",
     "output_type": "stream",
     "text": [
      "Estimated Intercept Coefficient: 1.96214997006\n"
     ]
    }
   ],
   "source": [
    "print('Estimated Intercept Coefficient:' , lm.intercept_)"
   ]
  },
  {
   "cell_type": "code",
   "execution_count": 126,
   "metadata": {},
   "outputs": [
    {
     "name": "stdout",
     "output_type": "stream",
     "text": [
      "Number of Coefficients: 132\n"
     ]
    }
   ],
   "source": [
    "print('Number of Coefficients:' , len(lm.coef_))"
   ]
  },
  {
   "cell_type": "code",
   "execution_count": 127,
   "metadata": {},
   "outputs": [
    {
     "data": {
      "text/html": [
       "<div>\n",
       "<style>\n",
       "    .dataframe thead tr:only-child th {\n",
       "        text-align: right;\n",
       "    }\n",
       "\n",
       "    .dataframe thead th {\n",
       "        text-align: left;\n",
       "    }\n",
       "\n",
       "    .dataframe tbody tr th {\n",
       "        vertical-align: top;\n",
       "    }\n",
       "</style>\n",
       "<table border=\"1\" class=\"dataframe\">\n",
       "  <thead>\n",
       "    <tr style=\"text-align: right;\">\n",
       "      <th></th>\n",
       "      <th>features</th>\n",
       "      <th>estimatedCoefficients</th>\n",
       "    </tr>\n",
       "  </thead>\n",
       "  <tbody>\n",
       "    <tr>\n",
       "      <th>0</th>\n",
       "      <td>week</td>\n",
       "      <td>-1.991439e-02</td>\n",
       "    </tr>\n",
       "    <tr>\n",
       "      <th>1</th>\n",
       "      <td>ha</td>\n",
       "      <td>-5.319542e-03</td>\n",
       "    </tr>\n",
       "    <tr>\n",
       "      <th>2</th>\n",
       "      <td>outdoors</td>\n",
       "      <td>6.012292e-03</td>\n",
       "    </tr>\n",
       "    <tr>\n",
       "      <th>3</th>\n",
       "      <td>dome</td>\n",
       "      <td>7.171565e-03</td>\n",
       "    </tr>\n",
       "    <tr>\n",
       "      <th>4</th>\n",
       "      <td>retractable_open</td>\n",
       "      <td>-2.237139e-02</td>\n",
       "    </tr>\n",
       "    <tr>\n",
       "      <th>5</th>\n",
       "      <td>retractable_closed</td>\n",
       "      <td>2.740997e-02</td>\n",
       "    </tr>\n",
       "    <tr>\n",
       "      <th>6</th>\n",
       "      <td>grass</td>\n",
       "      <td>-2.072810e-02</td>\n",
       "    </tr>\n",
       "    <tr>\n",
       "      <th>7</th>\n",
       "      <td>temp</td>\n",
       "      <td>8.675200e-03</td>\n",
       "    </tr>\n",
       "    <tr>\n",
       "      <th>8</th>\n",
       "      <td>wind</td>\n",
       "      <td>3.515186e-03</td>\n",
       "    </tr>\n",
       "    <tr>\n",
       "      <th>9</th>\n",
       "      <td>spread</td>\n",
       "      <td>1.112193e+12</td>\n",
       "    </tr>\n",
       "    <tr>\n",
       "      <th>10</th>\n",
       "      <td>ou</td>\n",
       "      <td>-7.533344e+11</td>\n",
       "    </tr>\n",
       "    <tr>\n",
       "      <th>11</th>\n",
       "      <td>implied</td>\n",
       "      <td>1.343312e+12</td>\n",
       "    </tr>\n",
       "    <tr>\n",
       "      <th>12</th>\n",
       "      <td>points-per-game_currseason</td>\n",
       "      <td>2.955552e-02</td>\n",
       "    </tr>\n",
       "    <tr>\n",
       "      <th>13</th>\n",
       "      <td>points-per-game_last3</td>\n",
       "      <td>5.916405e-02</td>\n",
       "    </tr>\n",
       "    <tr>\n",
       "      <th>14</th>\n",
       "      <td>points-per-game_last1</td>\n",
       "      <td>-4.670613e-02</td>\n",
       "    </tr>\n",
       "    <tr>\n",
       "      <th>15</th>\n",
       "      <td>points-per-game_lastseason</td>\n",
       "      <td>8.072241e-02</td>\n",
       "    </tr>\n",
       "    <tr>\n",
       "      <th>16</th>\n",
       "      <td>red-zone-scoring-attempts-per-game_currseason</td>\n",
       "      <td>4.577202e-02</td>\n",
       "    </tr>\n",
       "    <tr>\n",
       "      <th>17</th>\n",
       "      <td>red-zone-scoring-attempts-per-game_last3</td>\n",
       "      <td>-4.586897e-02</td>\n",
       "    </tr>\n",
       "    <tr>\n",
       "      <th>18</th>\n",
       "      <td>red-zone-scoring-attempts-per-game_last1</td>\n",
       "      <td>-1.767020e-02</td>\n",
       "    </tr>\n",
       "    <tr>\n",
       "      <th>19</th>\n",
       "      <td>red-zone-scoring-attempts-per-game_lastseason</td>\n",
       "      <td>-5.225952e-02</td>\n",
       "    </tr>\n",
       "    <tr>\n",
       "      <th>20</th>\n",
       "      <td>red-zone-scoring-pct_currseason</td>\n",
       "      <td>5.670923e-02</td>\n",
       "    </tr>\n",
       "    <tr>\n",
       "      <th>21</th>\n",
       "      <td>red-zone-scoring-pct_last3</td>\n",
       "      <td>-2.692847e-02</td>\n",
       "    </tr>\n",
       "    <tr>\n",
       "      <th>22</th>\n",
       "      <td>red-zone-scoring-pct_last1</td>\n",
       "      <td>9.247168e-03</td>\n",
       "    </tr>\n",
       "    <tr>\n",
       "      <th>23</th>\n",
       "      <td>red-zone-scoring-pct_lastseason</td>\n",
       "      <td>2.632167e-02</td>\n",
       "    </tr>\n",
       "    <tr>\n",
       "      <th>24</th>\n",
       "      <td>two-point-conversion-attempts-per-game_currseason</td>\n",
       "      <td>5.402611e-02</td>\n",
       "    </tr>\n",
       "    <tr>\n",
       "      <th>25</th>\n",
       "      <td>two-point-conversion-attempts-per-game_last3</td>\n",
       "      <td>-4.254434e-02</td>\n",
       "    </tr>\n",
       "    <tr>\n",
       "      <th>26</th>\n",
       "      <td>two-point-conversion-attempts-per-game_last1</td>\n",
       "      <td>3.361463e-02</td>\n",
       "    </tr>\n",
       "    <tr>\n",
       "      <th>27</th>\n",
       "      <td>two-point-conversion-attempts-per-game_lastseason</td>\n",
       "      <td>6.766958e-02</td>\n",
       "    </tr>\n",
       "    <tr>\n",
       "      <th>28</th>\n",
       "      <td>two-point-conversions-per-game_currseason</td>\n",
       "      <td>-3.125465e-02</td>\n",
       "    </tr>\n",
       "    <tr>\n",
       "      <th>29</th>\n",
       "      <td>two-point-conversions-per-game_last3</td>\n",
       "      <td>-1.388366e-02</td>\n",
       "    </tr>\n",
       "    <tr>\n",
       "      <th>...</th>\n",
       "      <td>...</td>\n",
       "      <td>...</td>\n",
       "    </tr>\n",
       "    <tr>\n",
       "      <th>102</th>\n",
       "      <td>penalties-per-game_last1_y</td>\n",
       "      <td>9.153938e-02</td>\n",
       "    </tr>\n",
       "    <tr>\n",
       "      <th>103</th>\n",
       "      <td>penalties-per-game_lastseason_y</td>\n",
       "      <td>8.337402e-02</td>\n",
       "    </tr>\n",
       "    <tr>\n",
       "      <th>104</th>\n",
       "      <td>penalty-yards-per-game_currseason_y</td>\n",
       "      <td>1.933441e-01</td>\n",
       "    </tr>\n",
       "    <tr>\n",
       "      <th>105</th>\n",
       "      <td>penalty-yards-per-game_last3_y</td>\n",
       "      <td>-9.777832e-02</td>\n",
       "    </tr>\n",
       "    <tr>\n",
       "      <th>106</th>\n",
       "      <td>penalty-yards-per-game_last1_y</td>\n",
       "      <td>-7.798386e-02</td>\n",
       "    </tr>\n",
       "    <tr>\n",
       "      <th>107</th>\n",
       "      <td>penalty-yards-per-game_lastseason_y</td>\n",
       "      <td>-8.106995e-02</td>\n",
       "    </tr>\n",
       "    <tr>\n",
       "      <th>108</th>\n",
       "      <td>points-per-game_ha</td>\n",
       "      <td>-8.386230e-02</td>\n",
       "    </tr>\n",
       "    <tr>\n",
       "      <th>109</th>\n",
       "      <td>red-zone-scoring-attempts-per-game_ha</td>\n",
       "      <td>2.575684e-02</td>\n",
       "    </tr>\n",
       "    <tr>\n",
       "      <th>110</th>\n",
       "      <td>red-zone-scoring-pct_ha</td>\n",
       "      <td>-7.937622e-02</td>\n",
       "    </tr>\n",
       "    <tr>\n",
       "      <th>111</th>\n",
       "      <td>two-point-conversion-attempts-per-game_ha</td>\n",
       "      <td>-1.788330e-02</td>\n",
       "    </tr>\n",
       "    <tr>\n",
       "      <th>112</th>\n",
       "      <td>two-point-conversions-per-game_ha</td>\n",
       "      <td>3.930664e-02</td>\n",
       "    </tr>\n",
       "    <tr>\n",
       "      <th>113</th>\n",
       "      <td>yards-per-game_ha</td>\n",
       "      <td>-2.648926e-02</td>\n",
       "    </tr>\n",
       "    <tr>\n",
       "      <th>114</th>\n",
       "      <td>plays-per-game_ha</td>\n",
       "      <td>1.579590e-01</td>\n",
       "    </tr>\n",
       "    <tr>\n",
       "      <th>115</th>\n",
       "      <td>fourth-downs-per-game_ha</td>\n",
       "      <td>-4.941559e-02</td>\n",
       "    </tr>\n",
       "    <tr>\n",
       "      <th>116</th>\n",
       "      <td>fourth-down-conversion-pct_ha</td>\n",
       "      <td>-8.125305e-04</td>\n",
       "    </tr>\n",
       "    <tr>\n",
       "      <th>117</th>\n",
       "      <td>giveaways-per-game_ha</td>\n",
       "      <td>1.119995e-02</td>\n",
       "    </tr>\n",
       "    <tr>\n",
       "      <th>118</th>\n",
       "      <td>penalties-per-game_ha</td>\n",
       "      <td>3.460693e-02</td>\n",
       "    </tr>\n",
       "    <tr>\n",
       "      <th>119</th>\n",
       "      <td>penalty-yards-per-game_ha</td>\n",
       "      <td>-5.871582e-02</td>\n",
       "    </tr>\n",
       "    <tr>\n",
       "      <th>120</th>\n",
       "      <td>opponent-points-per-game_ha</td>\n",
       "      <td>-1.142426e-01</td>\n",
       "    </tr>\n",
       "    <tr>\n",
       "      <th>121</th>\n",
       "      <td>opponent-red-zone-scoring-attempts-per-game_ha</td>\n",
       "      <td>-4.382324e-02</td>\n",
       "    </tr>\n",
       "    <tr>\n",
       "      <th>122</th>\n",
       "      <td>opponent-red-zone-scoring-pct_ha</td>\n",
       "      <td>4.554749e-02</td>\n",
       "    </tr>\n",
       "    <tr>\n",
       "      <th>123</th>\n",
       "      <td>opponent-two-point-conversion-attempts-per-gam...</td>\n",
       "      <td>4.075623e-02</td>\n",
       "    </tr>\n",
       "    <tr>\n",
       "      <th>124</th>\n",
       "      <td>opponent-two-point-conversions-per-game_ha</td>\n",
       "      <td>-6.161499e-02</td>\n",
       "    </tr>\n",
       "    <tr>\n",
       "      <th>125</th>\n",
       "      <td>opponent-yards-per-game_ha</td>\n",
       "      <td>2.338562e-01</td>\n",
       "    </tr>\n",
       "    <tr>\n",
       "      <th>126</th>\n",
       "      <td>opponent-plays-per-game_ha</td>\n",
       "      <td>-2.217712e-01</td>\n",
       "    </tr>\n",
       "    <tr>\n",
       "      <th>127</th>\n",
       "      <td>opponent-fourth-downs-per-game_ha</td>\n",
       "      <td>-6.286621e-03</td>\n",
       "    </tr>\n",
       "    <tr>\n",
       "      <th>128</th>\n",
       "      <td>opponent-fourth-down-conversion-pct_ha</td>\n",
       "      <td>2.132416e-02</td>\n",
       "    </tr>\n",
       "    <tr>\n",
       "      <th>129</th>\n",
       "      <td>opponent-giveaways-per-game_ha</td>\n",
       "      <td>9.338379e-03</td>\n",
       "    </tr>\n",
       "    <tr>\n",
       "      <th>130</th>\n",
       "      <td>opponent-penalties-per-game_ha</td>\n",
       "      <td>1.661377e-01</td>\n",
       "    </tr>\n",
       "    <tr>\n",
       "      <th>131</th>\n",
       "      <td>opponent-penalty-yards-per-game_ha</td>\n",
       "      <td>-9.036255e-02</td>\n",
       "    </tr>\n",
       "  </tbody>\n",
       "</table>\n",
       "<p>132 rows × 2 columns</p>\n",
       "</div>"
      ],
      "text/plain": [
       "                                              features  estimatedCoefficients\n",
       "0                                                 week          -1.991439e-02\n",
       "1                                                   ha          -5.319542e-03\n",
       "2                                             outdoors           6.012292e-03\n",
       "3                                                 dome           7.171565e-03\n",
       "4                                     retractable_open          -2.237139e-02\n",
       "5                                   retractable_closed           2.740997e-02\n",
       "6                                                grass          -2.072810e-02\n",
       "7                                                 temp           8.675200e-03\n",
       "8                                                 wind           3.515186e-03\n",
       "9                                               spread           1.112193e+12\n",
       "10                                                  ou          -7.533344e+11\n",
       "11                                             implied           1.343312e+12\n",
       "12                          points-per-game_currseason           2.955552e-02\n",
       "13                               points-per-game_last3           5.916405e-02\n",
       "14                               points-per-game_last1          -4.670613e-02\n",
       "15                          points-per-game_lastseason           8.072241e-02\n",
       "16       red-zone-scoring-attempts-per-game_currseason           4.577202e-02\n",
       "17            red-zone-scoring-attempts-per-game_last3          -4.586897e-02\n",
       "18            red-zone-scoring-attempts-per-game_last1          -1.767020e-02\n",
       "19       red-zone-scoring-attempts-per-game_lastseason          -5.225952e-02\n",
       "20                     red-zone-scoring-pct_currseason           5.670923e-02\n",
       "21                          red-zone-scoring-pct_last3          -2.692847e-02\n",
       "22                          red-zone-scoring-pct_last1           9.247168e-03\n",
       "23                     red-zone-scoring-pct_lastseason           2.632167e-02\n",
       "24   two-point-conversion-attempts-per-game_currseason           5.402611e-02\n",
       "25        two-point-conversion-attempts-per-game_last3          -4.254434e-02\n",
       "26        two-point-conversion-attempts-per-game_last1           3.361463e-02\n",
       "27   two-point-conversion-attempts-per-game_lastseason           6.766958e-02\n",
       "28           two-point-conversions-per-game_currseason          -3.125465e-02\n",
       "29                two-point-conversions-per-game_last3          -1.388366e-02\n",
       "..                                                 ...                    ...\n",
       "102                         penalties-per-game_last1_y           9.153938e-02\n",
       "103                    penalties-per-game_lastseason_y           8.337402e-02\n",
       "104                penalty-yards-per-game_currseason_y           1.933441e-01\n",
       "105                     penalty-yards-per-game_last3_y          -9.777832e-02\n",
       "106                     penalty-yards-per-game_last1_y          -7.798386e-02\n",
       "107                penalty-yards-per-game_lastseason_y          -8.106995e-02\n",
       "108                                 points-per-game_ha          -8.386230e-02\n",
       "109              red-zone-scoring-attempts-per-game_ha           2.575684e-02\n",
       "110                            red-zone-scoring-pct_ha          -7.937622e-02\n",
       "111          two-point-conversion-attempts-per-game_ha          -1.788330e-02\n",
       "112                  two-point-conversions-per-game_ha           3.930664e-02\n",
       "113                                  yards-per-game_ha          -2.648926e-02\n",
       "114                                  plays-per-game_ha           1.579590e-01\n",
       "115                           fourth-downs-per-game_ha          -4.941559e-02\n",
       "116                      fourth-down-conversion-pct_ha          -8.125305e-04\n",
       "117                              giveaways-per-game_ha           1.119995e-02\n",
       "118                              penalties-per-game_ha           3.460693e-02\n",
       "119                          penalty-yards-per-game_ha          -5.871582e-02\n",
       "120                        opponent-points-per-game_ha          -1.142426e-01\n",
       "121     opponent-red-zone-scoring-attempts-per-game_ha          -4.382324e-02\n",
       "122                   opponent-red-zone-scoring-pct_ha           4.554749e-02\n",
       "123  opponent-two-point-conversion-attempts-per-gam...           4.075623e-02\n",
       "124         opponent-two-point-conversions-per-game_ha          -6.161499e-02\n",
       "125                         opponent-yards-per-game_ha           2.338562e-01\n",
       "126                         opponent-plays-per-game_ha          -2.217712e-01\n",
       "127                  opponent-fourth-downs-per-game_ha          -6.286621e-03\n",
       "128             opponent-fourth-down-conversion-pct_ha           2.132416e-02\n",
       "129                     opponent-giveaways-per-game_ha           9.338379e-03\n",
       "130                     opponent-penalties-per-game_ha           1.661377e-01\n",
       "131                 opponent-penalty-yards-per-game_ha          -9.036255e-02\n",
       "\n",
       "[132 rows x 2 columns]"
      ]
     },
     "execution_count": 127,
     "metadata": {},
     "output_type": "execute_result"
    }
   ],
   "source": [
    "pd.DataFrame(list(zip(x.columns,lm.coef_)), columns=['features','estimatedCoefficients'])"
   ]
  },
  {
   "cell_type": "code",
   "execution_count": 132,
   "metadata": {},
   "outputs": [
    {
     "data": {
      "text/plain": [
       "<function matplotlib.pyplot.show>"
      ]
     },
     "execution_count": 132,
     "metadata": {},
     "output_type": "execute_result"
    },
    {
     "data": {
      "image/png": "[encoded data removed]",
      "text/plain": [
       "<Figure size 432x288 with 1 Axes>"
      ]
     },
     "metadata": {},
     "output_type": "display_data"
    }
   ],
   "source": [
    "plt.scatter(dfs2['spread'],df['fga'])\n",
    "plt.xlabel('spread')\n",
    "plt.ylabel('Field Goals Attempted')\n",
    "plt.show"
   ]
  },
  {
   "cell_type": "code",
   "execution_count": 133,
   "metadata": {},
   "outputs": [
    {
     "data": {
      "text/plain": [
       "<function matplotlib.pyplot.show>"
      ]
     },
     "execution_count": 133,
     "metadata": {},
     "output_type": "execute_result"
    },
    {
     "data": {
      "image/png": "[encoded data removed]",
      "text/plain": [
       "<Figure size 432x288 with 1 Axes>"
      ]
     },
     "metadata": {},
     "output_type": "display_data"
    }
   ],
   "source": [
    "plt.scatter(lm.predict(x),df['fga'])\n",
    "plt.ylabel('Field Goals Attempted')\n",
    "plt.xlabel('Predicted Field Goals Attempted')\n",
    "plt.show"
   ]
  },
  {
   "cell_type": "code",
   "execution_count": 137,
   "metadata": {},
   "outputs": [
    {
     "name": "stdout",
     "output_type": "stream",
     "text": [
      "(3579, 132)\n",
      "(3579,)\n",
      "(37, 132)\n",
      "(37,)\n"
     ]
    }
   ],
   "source": [
    "from sklearn.model_selection import train_test_split\n",
    "x_train, x_test, y_train, y_test = train_test_split( x, df['fga'], test_size=0.01, random_state=5)\n",
    "print(x_train.shape)\n",
    "print(y_train.shape)\n",
    "print(x_test.shape)\n",
    "print(y_test.shape)"
   ]
  },
  {
   "cell_type": "code",
   "execution_count": 138,
   "metadata": {},
   "outputs": [],
   "source": [
    "lm = LinearRegression()\n",
    "lm.fit(x_train, y_train)\n",
    "pred_train=lm.predict(x_train)\n",
    "pred_test=lm.predict(x_test)"
   ]
  },
  {
   "cell_type": "code",
   "execution_count": 110,
   "metadata": {},
   "outputs": [
    {
     "name": "stdout",
     "output_type": "stream",
     "text": [
      "Fit a model X_train, and calculate MSE with Y_train: 1.60675755022\n",
      "Fit a model X_train, and calculate MSE with X_test, Y_test: 1.8515297531\n"
     ]
    }
   ],
   "source": [
    "print('Fit a model X_train, and calculate MSE with Y_train:', np.mean((y_train-lm.predict(x_train)) ** 2))\n",
    "print('Fit a model X_train, and calculate MSE with X_test, Y_test:', np.mean((y_test-lm.predict(x_test)) ** 2))"
   ]
  },
  {
   "cell_type": "code",
   "execution_count": 139,
   "metadata": {},
   "outputs": [
    {
     "data": {
      "text/plain": [
       "<matplotlib.collections.LineCollection at 0x1b34ddc00b8>"
      ]
     },
     "execution_count": 139,
     "metadata": {},
     "output_type": "execute_result"
    },
    {
     "data": {
      "image/png": "[encoded data removed]",
      "text/plain": [
       "<Figure size 432x288 with 1 Axes>"
      ]
     },
     "metadata": {},
     "output_type": "display_data"
    }
   ],
   "source": [
    "plt.scatter(lm.predict(x_train), lm.predict(x_train) - y_train, c='b', s=10, alpha = 0.5)\n",
    "plt.scatter(lm.predict(x_test), lm.predict(x_test) - y_test, c='g', s=10)\n",
    "plt.hlines(y=0, xmin=0, xmax=.6)"
   ]
  },
  {
   "cell_type": "code",
   "execution_count": 140,
   "metadata": {},
   "outputs": [],
   "source": [
    "pre = pd.read_csv('/Users/User1/ml-seed-data/predict.csv',header=0, sep=',')"
   ]
  },
  {
   "cell_type": "code",
   "execution_count": 145,
   "metadata": {},
   "outputs": [],
   "source": [
    "lm = LinearRegression()\n",
    "lm.fit(x_train, y_train)\n",
    "pred_train=lm.predict(x_train)\n",
    "pred_test=lm.predict(pre)"
   ]
  },
  {
   "cell_type": "code",
   "execution_count": 146,
   "metadata": {},
   "outputs": [],
   "source": [
    "df6=pd.DataFrame(pred_test)"
   ]
  },
  {
   "cell_type": "code",
   "execution_count": 147,
   "metadata": {},
   "outputs": [
    {
     "data": {
      "text/html": [
       "<div>\n",
       "<style>\n",
       "    .dataframe thead tr:only-child th {\n",
       "        text-align: right;\n",
       "    }\n",
       "\n",
       "    .dataframe thead th {\n",
       "        text-align: left;\n",
       "    }\n",
       "\n",
       "    .dataframe tbody tr th {\n",
       "        vertical-align: top;\n",
       "    }\n",
       "</style>\n",
       "<table border=\"1\" class=\"dataframe\">\n",
       "  <thead>\n",
       "    <tr style=\"text-align: right;\">\n",
       "      <th></th>\n",
       "      <th>0</th>\n",
       "    </tr>\n",
       "  </thead>\n",
       "  <tbody>\n",
       "    <tr>\n",
       "      <th>0</th>\n",
       "      <td>-1.601040e+09</td>\n",
       "    </tr>\n",
       "    <tr>\n",
       "      <th>1</th>\n",
       "      <td>1.579886e+08</td>\n",
       "    </tr>\n",
       "    <tr>\n",
       "      <th>2</th>\n",
       "      <td>-2.480416e+09</td>\n",
       "    </tr>\n",
       "    <tr>\n",
       "      <th>3</th>\n",
       "      <td>7.003412e+07</td>\n",
       "    </tr>\n",
       "    <tr>\n",
       "      <th>4</th>\n",
       "      <td>-2.295596e+09</td>\n",
       "    </tr>\n",
       "    <tr>\n",
       "      <th>5</th>\n",
       "      <td>-2.421899e+09</td>\n",
       "    </tr>\n",
       "    <tr>\n",
       "      <th>6</th>\n",
       "      <td>-7.606095e+08</td>\n",
       "    </tr>\n",
       "    <tr>\n",
       "      <th>7</th>\n",
       "      <td>-6.079695e+08</td>\n",
       "    </tr>\n",
       "    <tr>\n",
       "      <th>8</th>\n",
       "      <td>-2.556332e+09</td>\n",
       "    </tr>\n",
       "    <tr>\n",
       "      <th>9</th>\n",
       "      <td>-1.289802e+09</td>\n",
       "    </tr>\n",
       "    <tr>\n",
       "      <th>10</th>\n",
       "      <td>-1.265770e+09</td>\n",
       "    </tr>\n",
       "    <tr>\n",
       "      <th>11</th>\n",
       "      <td>-1.286319e+09</td>\n",
       "    </tr>\n",
       "    <tr>\n",
       "      <th>12</th>\n",
       "      <td>-1.632479e+09</td>\n",
       "    </tr>\n",
       "    <tr>\n",
       "      <th>13</th>\n",
       "      <td>-4.748918e+08</td>\n",
       "    </tr>\n",
       "    <tr>\n",
       "      <th>14</th>\n",
       "      <td>-3.053780e+08</td>\n",
       "    </tr>\n",
       "    <tr>\n",
       "      <th>15</th>\n",
       "      <td>-3.532288e+09</td>\n",
       "    </tr>\n",
       "    <tr>\n",
       "      <th>16</th>\n",
       "      <td>-2.023299e+09</td>\n",
       "    </tr>\n",
       "    <tr>\n",
       "      <th>17</th>\n",
       "      <td>-4.230789e+09</td>\n",
       "    </tr>\n",
       "    <tr>\n",
       "      <th>18</th>\n",
       "      <td>-2.056708e+09</td>\n",
       "    </tr>\n",
       "    <tr>\n",
       "      <th>19</th>\n",
       "      <td>-3.718916e+09</td>\n",
       "    </tr>\n",
       "    <tr>\n",
       "      <th>20</th>\n",
       "      <td>-1.657822e+09</td>\n",
       "    </tr>\n",
       "    <tr>\n",
       "      <th>21</th>\n",
       "      <td>-1.038341e+09</td>\n",
       "    </tr>\n",
       "    <tr>\n",
       "      <th>22</th>\n",
       "      <td>-3.181279e+09</td>\n",
       "    </tr>\n",
       "    <tr>\n",
       "      <th>23</th>\n",
       "      <td>-3.505703e+09</td>\n",
       "    </tr>\n",
       "    <tr>\n",
       "      <th>24</th>\n",
       "      <td>-1.319313e+09</td>\n",
       "    </tr>\n",
       "    <tr>\n",
       "      <th>25</th>\n",
       "      <td>-2.661045e+09</td>\n",
       "    </tr>\n",
       "    <tr>\n",
       "      <th>26</th>\n",
       "      <td>-2.757065e+09</td>\n",
       "    </tr>\n",
       "    <tr>\n",
       "      <th>27</th>\n",
       "      <td>-2.692122e+09</td>\n",
       "    </tr>\n",
       "    <tr>\n",
       "      <th>28</th>\n",
       "      <td>-2.445423e+09</td>\n",
       "    </tr>\n",
       "    <tr>\n",
       "      <th>29</th>\n",
       "      <td>-3.842177e+09</td>\n",
       "    </tr>\n",
       "    <tr>\n",
       "      <th>30</th>\n",
       "      <td>-3.628204e+09</td>\n",
       "    </tr>\n",
       "    <tr>\n",
       "      <th>31</th>\n",
       "      <td>-5.585542e+08</td>\n",
       "    </tr>\n",
       "  </tbody>\n",
       "</table>\n",
       "</div>"
      ],
      "text/plain": [
       "               0\n",
       "0  -1.601040e+09\n",
       "1   1.579886e+08\n",
       "2  -2.480416e+09\n",
       "3   7.003412e+07\n",
       "4  -2.295596e+09\n",
       "5  -2.421899e+09\n",
       "6  -7.606095e+08\n",
       "7  -6.079695e+08\n",
       "8  -2.556332e+09\n",
       "9  -1.289802e+09\n",
       "10 -1.265770e+09\n",
       "11 -1.286319e+09\n",
       "12 -1.632479e+09\n",
       "13 -4.748918e+08\n",
       "14 -3.053780e+08\n",
       "15 -3.532288e+09\n",
       "16 -2.023299e+09\n",
       "17 -4.230789e+09\n",
       "18 -2.056708e+09\n",
       "19 -3.718916e+09\n",
       "20 -1.657822e+09\n",
       "21 -1.038341e+09\n",
       "22 -3.181279e+09\n",
       "23 -3.505703e+09\n",
       "24 -1.319313e+09\n",
       "25 -2.661045e+09\n",
       "26 -2.757065e+09\n",
       "27 -2.692122e+09\n",
       "28 -2.445423e+09\n",
       "29 -3.842177e+09\n",
       "30 -3.628204e+09\n",
       "31 -5.585542e+08"
      ]
     },
     "execution_count": 147,
     "metadata": {},
     "output_type": "execute_result"
    }
   ],
   "source": [
    "df6"
   ]
  },
  {
   "cell_type": "code",
   "execution_count": 148,
   "metadata": {},
   "outputs": [],
   "source": [
    "df6.to_csv('/Users/User1/ml-seed-data/scores.csv', sep='|')"
   ]
  },
  {
   "cell_type": "code",
   "execution_count": null,
   "metadata": {},
   "outputs": [],
   "source": []
  }
 ],
 "metadata": {
  "kernelspec": {
   "display_name": "Python 3",
   "language": "python",
   "name": "python3"
  },
  "language_info": {
   "codemirror_mode": {
    "name": "ipython",
    "version": 3
   },
   "file_extension": ".py",
   "mimetype": "text/x-python",
   "name": "python",
   "nbconvert_exporter": "python",
   "pygments_lexer": "ipython3",
   "version": "3.6.4"
  }
 },
 "nbformat": 4,
 "nbformat_minor": 2
}
