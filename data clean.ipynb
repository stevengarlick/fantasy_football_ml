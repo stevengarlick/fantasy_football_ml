{
 "cells": [
  {
   "cell_type": "code",
   "execution_count": 10,
   "metadata": {},
   "outputs": [],
   "source": [
    "import pandas as pd\n",
    "import numpy as np"
   ]
  },
  {
   "cell_type": "code",
   "execution_count": 13,
   "metadata": {},
   "outputs": [
    {
     "name": "stderr",
     "output_type": "stream",
     "text": [
      "c:\\users\\s_garlick10\\appdata\\local\\programs\\python\\python36-32\\lib\\site-packages\\IPython\\core\\interactiveshell.py:2728: DtypeWarning: Columns (166,167,171,172,181,182,186,187,191,192,196,197,201,202,211,212,216,217,221,222,226,227,231,232,241,242,246,247,251,252,256,257,261,262,271,272,276,277,281,282) have mixed types. Specify dtype option on import or set low_memory=False.\n",
      "  interactivity=interactivity, compiler=compiler, result=result)\n"
     ]
    }
   ],
   "source": [
    "df = pd.read_csv('full_data.csv',header=0, sep=',')"
   ]
  },
  {
   "cell_type": "code",
   "execution_count": 14,
   "metadata": {},
   "outputs": [],
   "source": [
    "df = df.drop(labels=['Unnamed: 0'], axis = 1)"
   ]
  },
  {
   "cell_type": "code",
   "execution_count": 3,
   "metadata": {},
   "outputs": [
    {
     "data": {
      "text/plain": [
       "Index(['year', 'week', 'fga', 'bigfga', 'team', 'opponent', 'ha', 'roof',\n",
       "       'outdoors', 'dome',\n",
       "       ...\n",
       "       'opponent-third-downs-per-game_last1',\n",
       "       'opponent-third-downs-per-game_home',\n",
       "       'opponent-third-downs-per-game_away',\n",
       "       'opponent-third-downs-per-game_lastseason',\n",
       "       'opponent-third-down-conversions-per-game_currseason',\n",
       "       'opponent-third-down-conversions-per-game_last3',\n",
       "       'opponent-third-down-conversions-per-game_last1',\n",
       "       'opponent-third-down-conversions-per-game_home',\n",
       "       'opponent-third-down-conversions-per-game_away',\n",
       "       'opponent-third-down-conversions-per-game_lastseason'],\n",
       "      dtype='object', length=223)"
      ]
     },
     "execution_count": 3,
     "metadata": {},
     "output_type": "execute_result"
    }
   ],
   "source": [
    "df.columns"
   ]
  },
  {
   "cell_type": "code",
   "execution_count": 4,
   "metadata": {},
   "outputs": [],
   "source": [
    "df['points-per-game_ha']= np.where(df['ha']==1, df['points-per-game_home'], df['points-per-game_away'])\n",
    "\n",
    "df['red-zone-scoring-attempts-per-game_ha']= np.where(df['ha']==1, df['red-zone-scoring-attempts-per-game_home'], df['red-zone-scoring-attempts-per-game_away'])\n",
    "\n",
    "df['red-zone-scoring-pct_ha']= np.where(df['ha']==1, df['red-zone-scoring-pct_home'], df['red-zone-scoring-pct_away'])\n",
    "\n",
    "df['two-point-conversion-attempts-per-game_ha']= np.where(df['ha']==1, df['two-point-conversion-attempts-per-game_home'], df['two-point-conversion-attempts-per-game_away'])\n",
    "\n",
    "df['two-point-conversions-per-game_ha']= np.where(df['ha']==1, df['two-point-conversions-per-game_home'], df['two-point-conversions-per-game_away'])\n",
    "\n",
    "df['yards-per-game_ha']= np.where(df['ha']==1, df['yards-per-game_home'], df['yards-per-game_away'])\n",
    "\n",
    "df['plays-per-game_ha']= np.where(df['ha']==1, df['plays-per-game_home'], df['plays-per-game_away'])\n",
    "\n",
    "df['fourth-downs-per-game_ha']= np.where(df['ha']==1, df['fourth-downs-per-game_home'], df['fourth-downs-per-game_away'])\n",
    "\n",
    "df['fourth-down-conversion-pct_ha']= np.where(df['ha']==1, df['fourth-down-conversion-pct_home'], df['fourth-down-conversion-pct_away'])\n",
    "\n",
    "df['giveaways-per-game_ha']= np.where(df['ha']==1, df['giveaways-per-game_home'], df['giveaways-per-game_away'])\n",
    "\n",
    "df['penalties-per-game_ha']= np.where(df['ha']==1, df['penalties-per-game_home_x'], df['penalties-per-game_away_x'])\n",
    "\n",
    "df['penalty-yards-per-game_ha']= np.where(df['ha']==1, df['penalty-yards-per-game_home_x'], df['penalty-yards-per-game_away_x'])\n",
    "\n",
    "df['pass-attempts-per-game_ha']= np.where(df['ha']==1, df['pass-attempts-per-game_home'], df['pass-attempts-per-game_away'])\n",
    "\n",
    "df['rushing-attempts-per-game_ha']= np.where(df['ha']==1, df['rushing-attempts-per-game_home'], df['rushing-attempts-per-game_away'])\n",
    "\n",
    "\n",
    "\n",
    "\n",
    "\n",
    "df['teams-opponent-points-per-game_ha']= np.where(df['ha']==1, df['teams-opponent-points-per-game_home'], df['teams-opponent-points-per-game_away'])\n",
    "\n",
    "df['teams-opponent-red-zone-scoring-attempts-per-game_ha']= np.where(df['ha']==1, df['teams-opponent-red-zone-scoring-attempts-per-game_home'], df['teams-opponent-red-zone-scoring-attempts-per-game_away'])\n",
    "\n",
    "df['teams-opponent-red-zone-scoring-pct_ha']= np.where(df['ha']==1, df['teams-opponent-red-zone-scoring-pct_home'], df['teams-opponent-red-zone-scoring-pct_away'])\n",
    "\n",
    "df['teams-opponent-two-point-conversion-attempts-per-game_ha']= np.where(df['ha']==1, df['teams-opponent-two-point-conversion-attempts-per-game_home'], df['teams-opponent-two-point-conversion-attempts-per-game_away'])\n",
    "\n",
    "df['teams-opponent-two-point-conversions-per-game_ha']= np.where(df['ha']==1, df['teams-opponent-two-point-conversions-per-game_home'], df['teams-opponent-two-point-conversions-per-game_away'])\n",
    "\n",
    "df['teams-opponent-yards-per-game_ha']= np.where(df['ha']==1, df['teams-opponent-yards-per-game_home'], df['teams-opponent-yards-per-game_away'])\n",
    "\n",
    "df['teams-opponent-plays-per-game_ha']= np.where(df['ha']==1, df['teams-opponent-plays-per-game_home'], df['teams-opponent-plays-per-game_away'])\n",
    "\n",
    "df['teams-opponent-fourth-downs-per-game_ha']= np.where(df['ha']==1, df['teams-opponent-fourth-downs-per-game_home'], df['teams-opponent-fourth-downs-per-game_away'])\n",
    "\n",
    "df['teams-opponent-fourth-down-conversion-pct_ha']= np.where(df['ha']==1, df['teams-opponent-fourth-down-conversion-pct_home'], df['teams-opponent-fourth-down-conversion-pct_away'])\n",
    "\n",
    "df['teams-opponent-giveaways-per-game_ha']= np.where(df['ha']==1, df['teams-opponent-giveaways-per-game_home'], df['teams-opponent-giveaways-per-game_away'])\n",
    "\n",
    "df['teams-opponent-penalties-per-game_ha']= np.where(df['ha']==1, df['teams-opponent-penalties-per-game_home_x'], df['teams-opponent-penalties-per-game_away_x'])\n",
    "\n",
    "df['teams-opponent-penalty-yards-per-game_ha']= np.where(df['ha']==1, df['teams-opponent-penalty-yards-per-game_home_x'], df['teams-opponent-penalty-yards-per-game_away_x'])\n",
    "\n",
    "df['teams-opponent-pass-attempts-per-game_ha']= np.where(df['ha']==1, df['teams-opponent-pass-attempts-per-game_home'], df['teams-opponent-pass-attempts-per-game_away'])\n",
    "\n",
    "df['rushing-attempts-per-game_ha']= np.where(df['ha']==1, df['rushing-attempts-per-game_home'], df['teams-opponent-rushing-attempts-per-game_away'])\n"
   ]
  },
  {
   "cell_type": "code",
   "execution_count": 5,
   "metadata": {},
   "outputs": [],
   "source": [
    "df['opponent-points-per-game_ha']= np.where(df['ha']==0, df['opponent-points-per-game_home'], df['opponent-points-per-game_away'])\n",
    "\n",
    "df['opponent-red-zone-scoring-attempts-per-game_ha']= np.where(df['ha']==0, df['opponent-red-zone-scoring-attempts-per-game_home'], df['opponent-red-zone-scoring-attempts-per-game_away'])\n",
    "\n",
    "df['opponent-red-zone-scoring-pct_ha']= np.where(df['ha']==0, df['opponent-red-zone-scoring-pct_home'], df['opponent-red-zone-scoring-pct_away'])\n",
    "\n",
    "df['opponent-two-point-conversion-attempts-per-game_ha']= np.where(df['ha']==0, df['opponent-two-point-conversion-attempts-per-game_home'], df['opponent-two-point-conversion-attempts-per-game_away'])\n",
    "\n",
    "df['opponent-two-point-conversions-per-game_ha']= np.where(df['ha']==0, df['opponent-two-point-conversions-per-game_home'], df['opponent-two-point-conversions-per-game_away'])\n",
    "\n",
    "df['opponent-yards-per-game_ha']= np.where(df['ha']==0, df['opponent-yards-per-game_home'], df['opponent-yards-per-game_away'])\n",
    "\n",
    "df['opponent-plays-per-game_ha']= np.where(df['ha']==0, df['opponent-plays-per-game_home'], df['opponent-plays-per-game_away'])\n",
    "\n",
    "df['opponent-fourth-downs-per-game_ha']= np.where(df['ha']==0, df['opponent-fourth-downs-per-game_home'], df['opponent-fourth-downs-per-game_away'])\n",
    "\n",
    "df['opponent-fourth-down-conversion-pct_ha']= np.where(df['ha']==0, df['opponent-fourth-down-conversion-pct_home'], df['opponent-fourth-down-conversion-pct_away'])\n",
    "\n",
    "df['opponent-giveaways-per-game_ha']= np.where(df['ha']==0, df['takeaways-per-game_home'], df['takeaways-per-game_away'])\n",
    "\n",
    "df['opponent-penalties-per-game_ha']= np.where(df['ha']==0, df['penalties-per-game_home_y'], df['penalties-per-game_away_y'])\n",
    "\n",
    "df['opponent-penalty-yards-per-game_ha']= np.where(df['ha']==0, df['penalty-yards-per-game_home_y'], df['penalty-yards-per-game_away_y'])\n",
    "\n",
    "df['opponent-pass-attempts-per-game_ha']= np.where(df['ha']==1, df['opponent-pass-attempts-per-game_home'], df['opponent-pass-attempts-per-game_away'])\n",
    "\n",
    "df['opponent-rushing-attempts-per-game_ha']= np.where(df['ha']==1, df['opponent-rushing-attempts-per-game_home'], df['opponent-rushing-attempts-per-game_away'])\n",
    "\n",
    "\n",
    "\n",
    "\n",
    "\n",
    "\n",
    "\n",
    "\n",
    "\n",
    "\n",
    "\n",
    "\n"
   ]
  },
  {
   "cell_type": "code",
   "execution_count": 6,
   "metadata": {},
   "outputs": [],
   "source": [
    "df = df.drop(labels=['opponent-points-per-game_home','opponent-points-per-game_away','opponent-red-zone-scoring-attempts-per-game_home','opponent-red-zone-scoring-attempts-per-game_away','opponent-red-zone-scoring-pct_home','opponent-red-zone-scoring-pct_away','opponent-two-point-conversion-attempts-per-game_home','opponent-two-point-conversion-attempts-per-game_away','opponent-two-point-conversions-per-game_home','opponent-two-point-conversions-per-game_away','opponent-yards-per-game_home','opponent-yards-per-game_away','opponent-plays-per-game_home','opponent-plays-per-game_away'], axis = 1)\n",
    "\n",
    "df = df.drop(labels=['opponent-fourth-downs-per-game_home','opponent-fourth-downs-per-game_away','opponent-fourth-down-conversion-pct_home','opponent-fourth-down-conversion-pct_away','takeaways-per-game_home','takeaways-per-game_away','penalties-per-game_home_y','penalties-per-game_away_y','penalty-yards-per-game_home_y','penalty-yards-per-game_away_y'], axis = 1)\n"
   ]
  },
  {
   "cell_type": "code",
   "execution_count": 7,
   "metadata": {},
   "outputs": [],
   "source": [
    "df = df.drop(labels=['rushing-attempts-per-game_home','rushing-attempts-per-game_away','pass-attempts-per-game_home','pass-attempts-per-game_away','points-per-game_home','points-per-game_away','red-zone-scoring-attempts-per-game_home','red-zone-scoring-attempts-per-game_away','red-zone-scoring-pct_home','red-zone-scoring-pct_away','two-point-conversion-attempts-per-game_home','two-point-conversion-attempts-per-game_away','two-point-conversions-per-game_home','two-point-conversions-per-game_away','yards-per-game_home','yards-per-game_away','plays-per-game_home','plays-per-game_away'], axis = 1)\n",
    "\n",
    "df = df.drop(labels=['fourth-downs-per-game_home','fourth-downs-per-game_away','fourth-down-conversion-pct_home','fourth-down-conversion-pct_away','giveaways-per-game_home','giveaways-per-game_away','penalties-per-game_home_x','penalties-per-game_away_x','penalty-yards-per-game_home_x','penalty-yards-per-game_away_x'], axis = 1)"
   ]
  },
  {
   "cell_type": "code",
   "execution_count": 8,
   "metadata": {},
   "outputs": [],
   "source": [
    "df = df.replace({'\\%': ''}, regex=True)\n",
    "df = df.replace(to_replace='--', value='0', inplace=False, limit=None, regex=False, method='pad')"
   ]
  },
  {
   "cell_type": "code",
   "execution_count": 9,
   "metadata": {},
   "outputs": [],
   "source": [
    "df.to_csv('clean_data2.csv', sep='|')"
   ]
  },
  {
   "cell_type": "code",
   "execution_count": null,
   "metadata": {},
   "outputs": [],
   "source": []
  }
 ],
 "metadata": {
  "kernelspec": {
   "display_name": "Python 3",
   "language": "python",
   "name": "python3"
  },
  "language_info": {
   "codemirror_mode": {
    "name": "ipython",
    "version": 3
   },
   "file_extension": ".py",
   "mimetype": "text/x-python",
   "name": "python",
   "nbconvert_exporter": "python",
   "pygments_lexer": "ipython3",
   "version": "3.6.3"
  }
 },
 "nbformat": 4,
 "nbformat_minor": 2
}
