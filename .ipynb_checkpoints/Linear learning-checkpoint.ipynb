{
 "cells": [
  {
   "cell_type": "code",
   "execution_count": 324,
   "metadata": {},
   "outputs": [],
   "source": [
    "import pandas as pd\n",
    "import sklearn\n",
    "from scipy import stats\n",
    "from sklearn import preprocessing\n",
    "from IPython.display import display\n",
    "import numpy as np\n",
    "import matplotlib.pyplot as plt\n",
    "from numpy import exp"
   ]
  },
  {
   "cell_type": "code",
   "execution_count": 325,
   "metadata": {},
   "outputs": [],
   "source": [
    "df = pd.read_csv('clean_data.csv',header=0, sep='|')"
   ]
  },
  {
   "cell_type": "code",
   "execution_count": 326,
   "metadata": {},
   "outputs": [],
   "source": [
    "df = df.drop(labels=['Unnamed: 0','team','opponent','roof','surface'], axis = 1)"
   ]
  },
  {
   "cell_type": "markdown",
   "metadata": {},
   "source": []
  },
  {
   "cell_type": "code",
   "execution_count": null,
   "metadata": {},
   "outputs": [],
   "source": [
    "dfs = df.['ha','temp','wind','spread',]"
   ]
  },
  {
   "cell_type": "code",
   "execution_count": null,
   "metadata": {},
   "outputs": [],
   "source": [
    "dfs['temp'] = np.power(dfs['temp'],1.5)\n",
    "dfs['wind'] = np.log1p(dfs['wind'])\n",
    "dfs['ou'] = np.sqrt(dfs['ou'])\n",
    "dfs['implied'] = np.power(dfs['implied'],.67)\n",
    "dfs['points-per-game_last1'] = np.power(dfs['points-per-game_last1'],.67)\n",
    "dfs['red-zone-scoring-attempts-per-game_last3'] = np.power(dfs['red-zone-scoring-attempts-per-game_last3'],.7)\n",
    "dfs['red-zone-scoring-attempts-per-game_last1'] = np.power(dfs['red-zone-scoring-attempts-per-game_last1'],.67)\n",
    "dfs['fourth-downs-per-game_currseason'] = np.cbrt(dfs['fourth-downs-per-game_currseason'])\n",
    "dfs['fourth-downs-per-game_last3'] = np.cbrt(dfs['fourth-downs-per-game_last3'])\n",
    "dfs['fourth-downs-per-game_lastseason'] = np.cbrt(dfs['fourth-downs-per-game_lastseason'])\n",
    "dfs['giveaways-per-game_currseason'] = np.log1p(dfs['giveaways-per-game_currseason'])\n",
    "dfs['giveaways-per-game_lastseason'] = np.log1p(dfs['giveaways-per-game_lastseason'])\n",
    "dfs['giveaways-per-game_last3'] = np.log1p(dfs['giveaways-per-game_last3'])\n",
    "dfs['giveaways-per-game_last1'] = np.log1p(dfs['giveaways-per-game_last1'])\n",
    "dfs['penalties-per-game_last1_x'] = np.sqrt(dfs['penalties-per-game_last1_x'])\n",
    "dfs['penalty-yards-per-game_last1_x'] = np.sqrt(dfs['penalty-yards-per-game_last1_x'])\n",
    "dfs['takeaways-per-game_currseason'] = np.log1p(dfs['takeaways-per-game_currseason'])\n",
    "dfs['takeaways-per-game_last3'] = np.log1p(dfs['takeaways-per-game_last3'])\n",
    "dfs['takeaways-per-game_last1'] = np.log1p(dfs['takeaways-per-game_last1'])\n",
    "dfs['penalty-yards-per-game_last1_y'] = np.sqrt(dfs['penalty-yards-per-game_last1_y'])\n",
    "\n",
    "\n",
    "\n",
    "\n",
    "\n",
    "dfs = dfs.drop(labels=['two-point-conversion-attempts-per-game_currseason',\n",
    "'two-point-conversion-attempts-per-game_last3',\n",
    "'two-point-conversion-attempts-per-game_last1',\n",
    "'two-point-conversion-attempts-per-game_lastseason',\n",
    "'two-point-conversions-per-game_currseason',\n",
    "'two-point-conversions-per-game_last3',\n",
    "'two-point-conversions-per-game_last1',\n",
    "'two-point-conversions-per-game_lastseason',\n",
    "'opponent-two-point-conversion-attempts-per-game_currseason',\n",
    "'opponent-two-point-conversion-attempts-per-game_last3',\n",
    "'opponent-two-point-conversion-attempts-per-game_last1',\n",
    "'opponent-two-point-conversion-attempts-per-game_lastseason',\n",
    "'opponent-two-point-conversions-per-game_currseason',\n",
    "'opponent-two-point-conversions-per-game_last3',\n",
    "'opponent-two-point-conversions-per-game_last1',\n",
    "'opponent-two-point-conversions-per-game_lastseason',\n",
    "'two-point-conversion-attempts-per-game_ha',\n",
    "'two-point-conversions-per-game_ha',\n",
    "], axis = 1)\n",
    "\n",
    "\n",
    "\n",
    "\n"
   ]
  },
  {
   "cell_type": "code",
   "execution_count": null,
   "metadata": {},
   "outputs": [],
   "source": [
    "dfs.columns"
   ]
  },
  {
   "cell_type": "code",
   "execution_count": null,
   "metadata": {},
   "outputs": [],
   "source": [
    "x = dfs.values"
   ]
  },
  {
   "cell_type": "code",
   "execution_count": null,
   "metadata": {},
   "outputs": [],
   "source": [
    "x = np.arcsinh(x)"
   ]
  },
  {
   "cell_type": "code",
   "execution_count": null,
   "metadata": {},
   "outputs": [],
   "source": [
    "#plt.hist(np.log1p(dfs['takeaways-per-game_currseason']), bins=30)\n",
    "plt.hist((dfs['points-per-game_ha']), bins=30)\n",
    "\n",
    "\n",
    "\n",
    "#x = np.log1p(dfs['wind'])\n",
    "#plt.hist(x, bins=10)\n",
    "#dfs2 = np.power(dfs['wind'],.3)"
   ]
  },
  {
   "cell_type": "code",
   "execution_count": null,
   "metadata": {},
   "outputs": [],
   "source": [
    "#plt.hist((dfs2), bins=30)\n",
    "\n",
    "param = stats.norm.fit((dfs2))  \n",
    "x = np.linspace(0, 20, 100)\n",
    "pdf_fitted = stats.norm.pdf(x, *param)\n",
    "\n",
    "plt.plot(x, pdf_fitted, color='r')"
   ]
  },
  {
   "cell_type": "code",
   "execution_count": null,
   "metadata": {},
   "outputs": [],
   "source": [
    "from sklearn import preprocessing\n",
    "normalized_x = preprocessing.scale(x)"
   ]
  },
  {
   "cell_type": "code",
   "execution_count": null,
   "metadata": {},
   "outputs": [],
   "source": [
    "dfs2=pd.DataFrame(normalized_x)"
   ]
  },
  {
   "cell_type": "code",
   "execution_count": null,
   "metadata": {},
   "outputs": [],
   "source": [
    "min_max_scaler = preprocessing.MinMaxScaler()"
   ]
  },
  {
   "cell_type": "code",
   "execution_count": null,
   "metadata": {},
   "outputs": [],
   "source": [
    "x_scaled = min_max_scaler.fit_transform(x)"
   ]
  },
  {
   "cell_type": "code",
   "execution_count": null,
   "metadata": {},
   "outputs": [],
   "source": [
    "dfs2 = pd.DataFrame(x_scaled)"
   ]
  },
  {
   "cell_type": "code",
   "execution_count": null,
   "metadata": {},
   "outputs": [],
   "source": [
    "dfs2.columns = ['week',\n",
    "'ha',\n",
    "'outdoors',\n",
    "'dome',\n",
    "'retractable_open',\n",
    "'retractable_closed',\n",
    "'grass',\n",
    "'temp',\n",
    "'wind',\n",
    "'spread',\n",
    "'ou',\n",
    "'implied',\n",
    "'points-per-game_currseason',\n",
    "'points-per-game_last3',\n",
    "'points-per-game_last1',\n",
    "'points-per-game_lastseason',\n",
    "'red-zone-scoring-attempts-per-game_currseason',\n",
    "'red-zone-scoring-attempts-per-game_last3',\n",
    "'red-zone-scoring-attempts-per-game_last1',\n",
    "'red-zone-scoring-attempts-per-game_lastseason',\n",
    "'red-zone-scoring-pct_currseason',\n",
    "'red-zone-scoring-pct_last3',\n",
    "'red-zone-scoring-pct_last1',\n",
    "'red-zone-scoring-pct_lastseason',\n",
    "'yards-per-game_currseason',\n",
    "'yards-per-game_last3',\n",
    "'yards-per-game_last1',\n",
    "'yards-per-game_lastseason',\n",
    "'plays-per-game_currseason',\n",
    "'plays-per-game_last3',\n",
    "'plays-per-game_last1',\n",
    "'plays-per-game_lastseason',\n",
    "'fourth-downs-per-game_currseason',\n",
    "'fourth-downs-per-game_last3',\n",
    "'fourth-downs-per-game_last1',\n",
    "'fourth-downs-per-game_lastseason',\n",
    "'fourth-down-conversion-pct_currseason',\n",
    "'fourth-down-conversion-pct_last3',\n",
    "'fourth-down-conversion-pct_last1',\n",
    "'fourth-down-conversion-pct_lastseason',\n",
    "'giveaways-per-game_currseason',\n",
    "'giveaways-per-game_last3',\n",
    "'giveaways-per-game_last1',\n",
    "'giveaways-per-game_lastseason',\n",
    "'penalties-per-game_currseason_x',\n",
    "'penalties-per-game_last3_x',\n",
    "'penalties-per-game_last1_x',\n",
    "'penalties-per-game_lastseason_x',\n",
    "'penalty-yards-per-game_currseason_x',\n",
    "'penalty-yards-per-game_last3_x',\n",
    "'penalty-yards-per-game_last1_x',\n",
    "'penalty-yards-per-game_lastseason_x',\n",
    "'opponent-points-per-game_currseason',\n",
    "'opponent-points-per-game_last3',\n",
    "'opponent-points-per-game_last1',\n",
    "'opponent-points-per-game_lastseason',\n",
    "'opponent-red-zone-scoring-attempts-per-game_currseason',\n",
    "'opponent-red-zone-scoring-attempts-per-game_last3',\n",
    "'opponent-red-zone-scoring-attempts-per-game_last1',\n",
    "'opponent-red-zone-scoring-attempts-per-game_lastseason',\n",
    "'opponent-red-zone-scoring-pct_currseason',\n",
    "'opponent-red-zone-scoring-pct_last3',\n",
    "'opponent-red-zone-scoring-pct_last1',\n",
    "'opponent-red-zone-scoring-pct_lastseason',\n",
    "'opponent-yards-per-game_currseason',\n",
    "'opponent-yards-per-game_last3',\n",
    "'opponent-yards-per-game_last1',\n",
    "'opponent-yards-per-game_lastseason',\n",
    "'opponent-plays-per-game_currseason',\n",
    "'opponent-plays-per-game_last3',\n",
    "'opponent-plays-per-game_last1',\n",
    "'opponent-plays-per-game_lastseason',\n",
    "'opponent-fourth-downs-per-game_currseason',\n",
    "'opponent-fourth-downs-per-game_last3',\n",
    "'opponent-fourth-downs-per-game_last1',\n",
    "'opponent-fourth-downs-per-game_lastseason',\n",
    "'opponent-fourth-down-conversion-pct_currseason',\n",
    "'opponent-fourth-down-conversion-pct_last3',\n",
    "'opponent-fourth-down-conversion-pct_last1',\n",
    "'opponent-fourth-down-conversion-pct_lastseason',\n",
    "'takeaways-per-game_currseason',\n",
    "'takeaways-per-game_last3',\n",
    "'takeaways-per-game_last1',\n",
    "'takeaways-per-game_lastseason',\n",
    "'penalties-per-game_currseason_y',\n",
    "'penalties-per-game_last3_y',\n",
    "'penalties-per-game_last1_y',\n",
    "'penalties-per-game_lastseason_y',\n",
    "'penalty-yards-per-game_currseason_y',\n",
    "'penalty-yards-per-game_last3_y',\n",
    "'penalty-yards-per-game_last1_y',\n",
    "'penalty-yards-per-game_lastseason_y',\n",
    "'points-per-game_ha',\n",
    "'red-zone-scoring-attempts-per-game_ha',\n",
    "'red-zone-scoring-pct_ha',\n",
    "'yards-per-game_ha',\n",
    "'plays-per-game_ha',\n",
    "'fourth-downs-per-game_ha',\n",
    "'fourth-down-conversion-pct_ha',\n",
    "'giveaways-per-game_ha',\n",
    "'penalties-per-game_ha',\n",
    "'penalty-yards-per-game_ha',\n",
    "'opponent-points-per-game_ha',\n",
    "'opponent-red-zone-scoring-attempts-per-game_ha',\n",
    "'opponent-red-zone-scoring-pct_ha',\n",
    "'opponent-two-point-conversion-attempts-per-game_ha',\n",
    "'opponent-two-point-conversions-per-game_ha',\n",
    "'opponent-yards-per-game_ha',\n",
    "'opponent-plays-per-game_ha',\n",
    "'opponent-fourth-downs-per-game_ha',\n",
    "'opponent-fourth-down-conversion-pct_ha',\n",
    "'opponent-giveaways-per-game_ha',\n",
    "'opponent-penalties-per-game_ha',\n",
    "'opponent-penalty-yards-per-game_ha'\n",
    "]"
   ]
  },
  {
   "cell_type": "code",
   "execution_count": null,
   "metadata": {},
   "outputs": [],
   "source": [
    "display(dfs2.corr())\n",
    "pd.plotting.scatter_matrix(dfs2, figsize=(12, 12))\n",
    "plt.show()"
   ]
  },
  {
   "cell_type": "code",
   "execution_count": null,
   "metadata": {},
   "outputs": [],
   "source": [
    "dfs2.to_csv('/Users/User1/ml-seed-data/full_data_normal.csv', sep='|')"
   ]
  },
  {
   "cell_type": "code",
   "execution_count": null,
   "metadata": {},
   "outputs": [],
   "source": [
    "from sklearn import datasets, linear_model\n",
    "from sklearn.metrics import mean_squared_error, r2_score\n"
   ]
  },
  {
   "cell_type": "code",
   "execution_count": null,
   "metadata": {},
   "outputs": [],
   "source": [
    "from sklearn.linear_model import LinearRegression\n",
    "\n",
    "#x = dfs2.drop('fga', axis=1)\n",
    "\n",
    "x = dfs2"
   ]
  },
  {
   "cell_type": "code",
   "execution_count": null,
   "metadata": {},
   "outputs": [],
   "source": [
    "lm = LinearRegression()\n",
    "\n",
    "lm.fit(x, df.fga)"
   ]
  },
  {
   "cell_type": "code",
   "execution_count": null,
   "metadata": {},
   "outputs": [],
   "source": [
    "print('Estimated Intercept Coefficient:' , lm.intercept_)"
   ]
  },
  {
   "cell_type": "code",
   "execution_count": null,
   "metadata": {},
   "outputs": [],
   "source": [
    "print('Number of Coefficients:' , len(lm.coef_))"
   ]
  },
  {
   "cell_type": "code",
   "execution_count": null,
   "metadata": {},
   "outputs": [],
   "source": [
    "pd.DataFrame(list(zip(x.columns,lm.coef_)), columns=['features','estimatedCoefficients'])"
   ]
  },
  {
   "cell_type": "code",
   "execution_count": null,
   "metadata": {},
   "outputs": [],
   "source": [
    "plt.scatter(dfs2['ou'],df['fga'])\n",
    "plt.xlabel('ou')\n",
    "plt.ylabel('Field Goals Attempted')\n",
    "plt.show"
   ]
  },
  {
   "cell_type": "code",
   "execution_count": null,
   "metadata": {},
   "outputs": [],
   "source": [
    "plt.scatter(lm.predict(x),df['fga'])\n",
    "plt.ylabel('Field Goals Attempted')\n",
    "plt.xlabel('Predicted Field Goals Attempted')\n",
    "plt.show"
   ]
  },
  {
   "cell_type": "code",
   "execution_count": null,
   "metadata": {},
   "outputs": [],
   "source": [
    "from sklearn.model_selection import train_test_split\n",
    "x_train, x_test, y_train, y_test = train_test_split( x, df['fga'], test_size=0.25, random_state=5)\n",
    "print(x_train.shape)\n",
    "print(y_train.shape)\n",
    "print(x_test.shape)\n",
    "print(y_test.shape)"
   ]
  },
  {
   "cell_type": "code",
   "execution_count": null,
   "metadata": {},
   "outputs": [],
   "source": [
    "lm = LinearRegression()\n",
    "lm.fit(x_train, y_train)\n",
    "pred_train=lm.predict(x_train)\n",
    "pred_test=lm.predict(x_test)"
   ]
  },
  {
   "cell_type": "code",
   "execution_count": null,
   "metadata": {},
   "outputs": [],
   "source": [
    "print('Fit a model X_train, and calculate MSE with Y_train:', np.mean((y_train-lm.predict(x_train)) ** 2))\n",
    "print('Fit a model X_train, and calculate MSE with X_test, Y_test:', np.mean((y_test-lm.predict(x_test)) ** 2))"
   ]
  },
  {
   "cell_type": "code",
   "execution_count": null,
   "metadata": {},
   "outputs": [],
   "source": [
    "plt.scatter(lm.predict(x_train), lm.predict(x_train) - y_train, c='b', s=10, alpha = 0.5)\n",
    "plt.scatter(lm.predict(x_test), lm.predict(x_test) - y_test, c='g', s=10)\n",
    "plt.hlines(y=0, xmin=0, xmax=.6)"
   ]
  },
  {
   "cell_type": "code",
   "execution_count": null,
   "metadata": {},
   "outputs": [],
   "source": [
    "pre = x.iloc[3584:]"
   ]
  },
  {
   "cell_type": "code",
   "execution_count": null,
   "metadata": {},
   "outputs": [],
   "source": [
    "lm = LinearRegression()\n",
    "lm.fit(x_train, y_train)\n",
    "pred_train=lm.predict(x_train)\n",
    "pred_test=lm.predict(pre)"
   ]
  },
  {
   "cell_type": "code",
   "execution_count": null,
   "metadata": {},
   "outputs": [],
   "source": [
    "df6=pd.DataFrame(pred_test)"
   ]
  },
  {
   "cell_type": "code",
   "execution_count": null,
   "metadata": {},
   "outputs": [],
   "source": [
    "df6"
   ]
  },
  {
   "cell_type": "code",
   "execution_count": null,
   "metadata": {},
   "outputs": [],
   "source": [
    "df6.to_csv('scores.csv', sep='|')"
   ]
  },
  {
   "cell_type": "code",
   "execution_count": null,
   "metadata": {},
   "outputs": [],
   "source": [
    "x.iloc[3584:]"
   ]
  },
  {
   "cell_type": "code",
   "execution_count": null,
   "metadata": {},
   "outputs": [],
   "source": []
  }
 ],
 "metadata": {
  "kernelspec": {
   "display_name": "Python 3",
   "language": "python",
   "name": "python3"
  },
  "language_info": {
   "codemirror_mode": {
    "name": "ipython",
    "version": 3
   },
   "file_extension": ".py",
   "mimetype": "text/x-python",
   "name": "python",
   "nbconvert_exporter": "python",
   "pygments_lexer": "ipython3",
   "version": "3.6.3"
  }
 },
 "nbformat": 4,
 "nbformat_minor": 2
}
