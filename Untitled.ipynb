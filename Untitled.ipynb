{
 "cells": [
  {
   "cell_type": "code",
   "execution_count": 354,
   "metadata": {},
   "outputs": [],
   "source": [
    "import numpy as np\n",
    "from numpy import loadtxt\n",
    "from numpy import exp\n",
    "import xgboost as xgb\n",
    "from sklearn.model_selection import train_test_split\n",
    "from sklearn.metrics import accuracy_score\n",
    "import pandas as pd\n",
    "from scipy import stats\n",
    "from sklearn import preprocessing\n",
    "from IPython.display import display\n",
    "import matplotlib.pyplot as plt\n",
    "\n",
    "\n",
    "df = pd.read_csv('clean_data.csv',header=0, sep=',')"
   ]
  },
  {
   "cell_type": "code",
   "execution_count": 355,
   "metadata": {},
   "outputs": [],
   "source": [
    "df = df.drop(labels=['team','fga','opponent','roof','surface'], axis = 1)"
   ]
  },
  {
   "cell_type": "code",
   "execution_count": 356,
   "metadata": {},
   "outputs": [],
   "source": [
    "df['third-down-conversion-percentage_currseason'] = df['third-down-conversions-per-game_currseason'] / df['third-downs-per-game_currseason']\n",
    "df['third-down-conversion-percentage_lastseason'] = df['third-down-conversions-per-game_lastseason'] / df['third-downs-per-game_lastseason']\n",
    "df['third-down-conversion-percentage_last3'] = df['third-down-conversions-per-game_last3'] / df['third-downs-per-game_last3']\n",
    "\n",
    "df['opponent-third-down-conversion-percentage_currseason'] = df['opponent-third-down-conversions-per-game_currseason'] / df['opponent-third-downs-per-game_currseason']\n",
    "df['opponent-third-down-conversion-percentage_lastseason'] = df['opponent-third-down-conversions-per-game_lastseason'] / df['opponent-third-downs-per-game_lastseason']\n",
    "df['opponent-third-down-conversion-percentage_last3'] = df['opponent-third-down-conversions-per-game_last3'] / df['opponent-third-downs-per-game_last3']"
   ]
  },
  {
   "cell_type": "code",
   "execution_count": 357,
   "metadata": {},
   "outputs": [],
   "source": [
    "dfs = df\n",
    "dfs = dfs.drop(labels=['bigfga','week','year'], axis = 1)\n",
    "\n",
    "dfs = dfs.drop(labels=[\n",
    "'points-per-game_last1',\n",
    "'red-zone-scoring-attempts-per-game_last1',\n",
    "'red-zone-scoring-pct_last1',\n",
    "'two-point-conversion-attempts-per-game_last1',\n",
    "'two-point-conversions-per-game_last1',\n",
    "'yards-per-game_last1',\n",
    "'plays-per-game_last1',\n",
    "'fourth-downs-per-game_last1',\n",
    "'fourth-down-conversion-pct_last1',\n",
    "'giveaways-per-game_last1',\n",
    "'penalties-per-game_last1_x',\n",
    "'penalty-yards-per-game_last1_x',\n",
    "'opponent-points-per-game_last1',\n",
    "'opponent-red-zone-scoring-attempts-per-game_last1',\n",
    "'opponent-red-zone-scoring-pct_last1',\n",
    "'opponent-two-point-conversion-attempts-per-game_last1',\n",
    "'opponent-two-point-conversions-per-game_last1',\n",
    "'opponent-yards-per-game_last1',\n",
    "'opponent-plays-per-game_last1',\n",
    "'opponent-fourth-downs-per-game_last1',\n",
    "'opponent-fourth-down-conversion-pct_last1',\n",
    "'takeaways-per-game_last1',\n",
    "'penalties-per-game_last1_y',\n",
    "'penalty-yards-per-game_last1_y',\n",
    "'pass-attempts-per-game_last1',\n",
    "'rushing-attempts-per-game_last1',\n",
    "'opponent-pass-attempts-per-game_last1',\n",
    "'opponent-rushing-attempts-per-game_last1',\n",
    "'first-downs-per-game_last1',\n",
    "'third-downs-per-game_last1',\n",
    "'third-down-conversions-per-game_last1',\n",
    "'opponent-first-downs-per-game_last1',\n",
    "'opponent-third-downs-per-game_last1',\n",
    "'opponent-third-down-conversions-per-game_last1'\n",
    "], axis = 1)"
   ]
  },
  {
   "cell_type": "code",
   "execution_count": 358,
   "metadata": {},
   "outputs": [],
   "source": [
    "dfs['temp'] = np.power(dfs['temp'],1.5)\n",
    "dfs['wind'] = np.log1p(dfs['wind'])\n",
    "dfs['ou'] = np.sqrt(dfs['ou'])\n",
    "dfs['implied'] = np.power(dfs['implied'],.67)\n",
    "dfs['fourth-downs-per-game_currseason'] = np.cbrt(dfs['fourth-downs-per-game_currseason'])\n",
    "dfs['giveaways-per-game_currseason'] = np.log1p(dfs['giveaways-per-game_currseason'])\n",
    "dfs['giveaways-per-game_lastseason'] = np.log1p(dfs['giveaways-per-game_lastseason'])\n",
    "dfs['takeaways-per-game_currseason'] = np.log1p(dfs['takeaways-per-game_currseason'])\n",
    "dfs['opponent-red-zone-scoring-attempts-per-game_currseason'] = np.power(dfs['opponent-red-zone-scoring-attempts-per-game_currseason'],.75)\n",
    "dfs['pass-attempts-per-game_currseason'] = np.power(dfs['pass-attempts-per-game_currseason'],1.25)\n",
    "dfs['opponent-penalty-yards-per-game_ha'] = np.power(dfs['opponent-penalty-yards-per-game_ha'],.67)\n"
   ]
  },
  {
   "cell_type": "code",
   "execution_count": 359,
   "metadata": {},
   "outputs": [],
   "source": [
    "dfs = dfs.fillna(0)\n",
    "x = dfs.values"
   ]
  },
  {
   "cell_type": "code",
   "execution_count": 360,
   "metadata": {},
   "outputs": [],
   "source": [
    "from sklearn import preprocessing\n",
    "normalized_x = preprocessing.scale(x)\n",
    "\n",
    "dfs2=pd.DataFrame(normalized_x)\n",
    "min_max_scaler = preprocessing.MinMaxScaler()\n",
    "x_scaled = min_max_scaler.fit_transform(x)\n",
    "dfs2 = pd.DataFrame(x_scaled)\n",
    "dfs2.columns = dfs.columns\n",
    "\n"
   ]
  },
  {
   "cell_type": "code",
   "execution_count": 366,
   "metadata": {},
   "outputs": [],
   "source": [
    "y = df['bigfga'].values"
   ]
  },
  {
   "cell_type": "code",
   "execution_count": 367,
   "metadata": {},
   "outputs": [],
   "source": [
    "seed = 7\n",
    "test_size = 0.2\n",
    "X_train, X_test, y_train, y_test = train_test_split(dfs2[:3648], y[:3648], test_size=test_size, random_state=seed)"
   ]
  },
  {
   "cell_type": "code",
   "execution_count": null,
   "metadata": {
    "scrolled": true
   },
   "outputs": [],
   "source": [
    "from sklearn.grid_search import GridSearchCV\n",
    "\n",
    "cv_params = {'max_depth': [2,3,4,5]}    # parameters to be tries in the grid search\n",
    "fix_params = {'learning_rate': 0.2, 'n_estimators': 800, 'min_child_weight': 1, 'objective': 'binary:logistic'}   #other parameters, fixed for the moment \n",
    "\n",
    "csv = GridSearchCV(xgb.XGBClassifier(**fix_params), cv_params, scoring = 'precision', cv = 5)\n",
    "\n",
    "csv.fit(X_train, y_train)\n",
    "\n",
    "csv.best_params_"
   ]
  },
  {
   "cell_type": "code",
   "execution_count": null,
   "metadata": {},
   "outputs": [],
   "source": [
    "cv_params = {'subsample': [0.7,0.8,0.9,1], 'max_delta_step': [0,1,2,4,5]}\n",
    "fix_params = {'learning_rate': 0.2, 'n_estimators': 100, 'objective': 'binary:logistic', 'max_depth': 4, 'min_child_weight':1}\n",
    "\n",
    "csv = GridSearchCV(xgb.XGBClassifier(**fix_params), cv_params, scoring = 'f1', cv = 5) \n",
    "csv.fit(X_train, y_train)\n",
    "csv.best_params_"
   ]
  },
  {
   "cell_type": "code",
   "execution_count": null,
   "metadata": {
    "scrolled": true
   },
   "outputs": [],
   "source": [
    "cv_params = {'n_estimators': [50,100,200,500,1000]}\n",
    "fix_params = {'learning_rate': 0.4, 'objective': 'binary:logistic', 'max_depth': 4, 'min_child_weight':1, 'max_delta_step':0, 'subsample':0.9}\n",
    "\n",
    "csv = GridSearchCV(xgb.XGBClassifier(**fix_params), cv_params, scoring = 'f1', cv = 5) \n",
    "csv.fit(X_train, y_train)\n",
    "csv.best_params_"
   ]
  },
  {
   "cell_type": "code",
   "execution_count": null,
   "metadata": {
    "scrolled": true
   },
   "outputs": [],
   "source": [
    "cv_params = {'learning_rate': [0.35, 0.4, 0.45]}\n",
    "fix_params['max_delta_step'] = 0\n",
    "fix_params['subsample'] = .9\n",
    "'n_estimators':\n",
    "csv = GridSearchCV(xgb.XGBClassifier(**fix_params), cv_params, scoring = 'f1', cv = 5) \n",
    "csv.fit(X_train, y_train)\n",
    "csv.best_params_"
   ]
  },
  {
   "cell_type": "code",
   "execution_count": 369,
   "metadata": {},
   "outputs": [
    {
     "name": "stdout",
     "output_type": "stream",
     "text": [
      "[0.2, 0.2, 0.2, 0.2, 0.2, 0.2, 0.2, 0.2, 0.2, 0.2, 0.2, 0.2, 0.2, 0.2, 0.2, 0.2, 0.2, 0.2, 0.2, 0.2, 0.2, 0.2, 0.2, 0.2, 0.2, 0.2, 0.2, 0.2, 0.2, 0.2, 0.2, 0.2, 0.2, 0.2, 0.2, 0.2, 0.2, 0.2, 0.2, 0.2, 0.2, 0.2, 0.2, 0.2, 0.2, 0.2, 0.2, 0.2, 0.2, 0.2, 0.2, 0.2, 0.2, 0.2, 0.2, 0.2, 0.2, 0.2, 0.2, 0.2, 0.2, 0.2, 0.2, 0.2, 0.2, 0.2, 0.2, 0.2, 0.2, 0.2, 0.2, 0.2, 0.2, 0.2, 0.2, 0.2, 0.2, 0.2, 0.2, 0.2, 0.2, 0.2, 0.2, 0.2, 0.2, 0.2, 0.2, 0.2, 0.2, 0.2, 0.2, 0.2, 0.2, 0.2, 0.2, 0.2, 0.2, 0.2, 0.2, 0.2]\n"
     ]
    }
   ],
   "source": [
    "def learning_rate_jumper(n_estimators, eta, lrl):\n",
    "    if lrl == 1:\n",
    "        lr = [1]*n_estimators\n",
    "        for i in range(n_estimators):\n",
    "            if i == 0:\n",
    "                lr[i] = 0.1\n",
    "            elif i == int(n_estimators / 3) or i == int(n_estimators/2) or i == n_estimators - (int(n_estimators / 3)) or i == 1:\n",
    "                lr[i] = eta\n",
    "            else:\n",
    "                lr[i] = lr[i-1] * 0.98\n",
    "    else:\n",
    "        lr = [eta]*n_estimators\n",
    "\n",
    "    print(lr)\n",
    "    return(lr)\n",
    "\n",
    "lrs = learning_rate_jumper(100, .2, .2)"
   ]
  },
  {
   "cell_type": "code",
   "execution_count": 370,
   "metadata": {},
   "outputs": [
    {
     "name": "stdout",
     "output_type": "stream",
     "text": [
      "{'objective': 'binary:logistic', 'max_depth': 4, 'min_child_weight': 1, 'max_delta_step': 0, 'subsample': 0.9, 'n_estimators': 100, 'gamma': 0.3, 'scale_pos_weight': 1}\n"
     ]
    }
   ],
   "source": [
    "fix_params = {\n",
    "'objective': 'binary:logistic',\n",
    "'max_depth' : 4,\n",
    "'min_child_weight' : 1,\n",
    "'max_delta_step' : 0,\n",
    "'subsample' : 0.9,\n",
    "'n_estimators' : 100,\n",
    "'gamma' : .3,\n",
    "'scale_pos_weight' : 1\n",
    "}\n",
    "\n",
    "final_params = fix_params\n",
    "print(final_params)"
   ]
  },
  {
   "cell_type": "code",
   "execution_count": 371,
   "metadata": {
    "scrolled": true
   },
   "outputs": [
    {
     "name": "stdout",
     "output_type": "stream",
     "text": [
      "[15:07:04] d:\\build\\xgboost\\xgboost-0.80.git\\src\\tree\\updater_prune.cc:74: tree pruning end, 1 roots, 26 extra nodes, 0 pruned nodes, max_depth=4\n",
      "[15:07:04] d:\\build\\xgboost\\xgboost-0.80.git\\src\\tree\\updater_prune.cc:74: tree pruning end, 1 roots, 26 extra nodes, 0 pruned nodes, max_depth=4\n",
      "[15:07:04] d:\\build\\xgboost\\xgboost-0.80.git\\src\\tree\\updater_prune.cc:74: tree pruning end, 1 roots, 26 extra nodes, 0 pruned nodes, max_depth=4\n",
      "[15:07:04] d:\\build\\xgboost\\xgboost-0.80.git\\src\\tree\\updater_prune.cc:74: tree pruning end, 1 roots, 26 extra nodes, 0 pruned nodes, max_depth=4\n",
      "[15:07:04] d:\\build\\xgboost\\xgboost-0.80.git\\src\\tree\\updater_prune.cc:74: tree pruning end, 1 roots, 24 extra nodes, 0 pruned nodes, max_depth=4\n",
      "[15:07:04] d:\\build\\xgboost\\xgboost-0.80.git\\src\\tree\\updater_prune.cc:74: tree pruning end, 1 roots, 18 extra nodes, 0 pruned nodes, max_depth=4\n",
      "[15:07:05] d:\\build\\xgboost\\xgboost-0.80.git\\src\\tree\\updater_prune.cc:74: tree pruning end, 1 roots, 24 extra nodes, 0 pruned nodes, max_depth=4\n",
      "[15:07:05] d:\\build\\xgboost\\xgboost-0.80.git\\src\\tree\\updater_prune.cc:74: tree pruning end, 1 roots, 30 extra nodes, 0 pruned nodes, max_depth=4\n",
      "[15:07:05] d:\\build\\xgboost\\xgboost-0.80.git\\src\\tree\\updater_prune.cc:74: tree pruning end, 1 roots, 26 extra nodes, 0 pruned nodes, max_depth=4\n",
      "[15:07:05] d:\\build\\xgboost\\xgboost-0.80.git\\src\\tree\\updater_prune.cc:74: tree pruning end, 1 roots, 30 extra nodes, 0 pruned nodes, max_depth=4\n",
      "[15:07:05] d:\\build\\xgboost\\xgboost-0.80.git\\src\\tree\\updater_prune.cc:74: tree pruning end, 1 roots, 30 extra nodes, 0 pruned nodes, max_depth=4\n",
      "[15:07:05] d:\\build\\xgboost\\xgboost-0.80.git\\src\\tree\\updater_prune.cc:74: tree pruning end, 1 roots, 28 extra nodes, 0 pruned nodes, max_depth=4\n",
      "[15:07:05] d:\\build\\xgboost\\xgboost-0.80.git\\src\\tree\\updater_prune.cc:74: tree pruning end, 1 roots, 24 extra nodes, 0 pruned nodes, max_depth=4\n",
      "[15:07:05] d:\\build\\xgboost\\xgboost-0.80.git\\src\\tree\\updater_prune.cc:74: tree pruning end, 1 roots, 30 extra nodes, 0 pruned nodes, max_depth=4\n",
      "[15:07:05] d:\\build\\xgboost\\xgboost-0.80.git\\src\\tree\\updater_prune.cc:74: tree pruning end, 1 roots, 22 extra nodes, 0 pruned nodes, max_depth=4\n",
      "[15:07:05] d:\\build\\xgboost\\xgboost-0.80.git\\src\\tree\\updater_prune.cc:74: tree pruning end, 1 roots, 18 extra nodes, 0 pruned nodes, max_depth=4\n",
      "[15:07:05] d:\\build\\xgboost\\xgboost-0.80.git\\src\\tree\\updater_prune.cc:74: tree pruning end, 1 roots, 30 extra nodes, 0 pruned nodes, max_depth=4\n",
      "[15:07:05] d:\\build\\xgboost\\xgboost-0.80.git\\src\\tree\\updater_prune.cc:74: tree pruning end, 1 roots, 18 extra nodes, 0 pruned nodes, max_depth=4\n",
      "[15:07:05] d:\\build\\xgboost\\xgboost-0.80.git\\src\\tree\\updater_prune.cc:74: tree pruning end, 1 roots, 30 extra nodes, 0 pruned nodes, max_depth=4\n",
      "[15:07:06] d:\\build\\xgboost\\xgboost-0.80.git\\src\\tree\\updater_prune.cc:74: tree pruning end, 1 roots, 18 extra nodes, 0 pruned nodes, max_depth=4\n",
      "[15:07:06] d:\\build\\xgboost\\xgboost-0.80.git\\src\\tree\\updater_prune.cc:74: tree pruning end, 1 roots, 30 extra nodes, 0 pruned nodes, max_depth=4\n",
      "[15:07:06] d:\\build\\xgboost\\xgboost-0.80.git\\src\\tree\\updater_prune.cc:74: tree pruning end, 1 roots, 30 extra nodes, 0 pruned nodes, max_depth=4\n",
      "[15:07:06] d:\\build\\xgboost\\xgboost-0.80.git\\src\\tree\\updater_prune.cc:74: tree pruning end, 1 roots, 30 extra nodes, 0 pruned nodes, max_depth=4\n",
      "[15:07:06] d:\\build\\xgboost\\xgboost-0.80.git\\src\\tree\\updater_prune.cc:74: tree pruning end, 1 roots, 20 extra nodes, 0 pruned nodes, max_depth=4\n",
      "[15:07:06] d:\\build\\xgboost\\xgboost-0.80.git\\src\\tree\\updater_prune.cc:74: tree pruning end, 1 roots, 28 extra nodes, 0 pruned nodes, max_depth=4\n",
      "[15:07:06] d:\\build\\xgboost\\xgboost-0.80.git\\src\\tree\\updater_prune.cc:74: tree pruning end, 1 roots, 26 extra nodes, 0 pruned nodes, max_depth=4\n",
      "[15:07:06] d:\\build\\xgboost\\xgboost-0.80.git\\src\\tree\\updater_prune.cc:74: tree pruning end, 1 roots, 30 extra nodes, 0 pruned nodes, max_depth=4\n",
      "[15:07:06] d:\\build\\xgboost\\xgboost-0.80.git\\src\\tree\\updater_prune.cc:74: tree pruning end, 1 roots, 18 extra nodes, 2 pruned nodes, max_depth=4\n",
      "[15:07:06] d:\\build\\xgboost\\xgboost-0.80.git\\src\\tree\\updater_prune.cc:74: tree pruning end, 1 roots, 18 extra nodes, 2 pruned nodes, max_depth=4\n",
      "[15:07:06] d:\\build\\xgboost\\xgboost-0.80.git\\src\\tree\\updater_prune.cc:74: tree pruning end, 1 roots, 30 extra nodes, 0 pruned nodes, max_depth=4\n",
      "[15:07:07] d:\\build\\xgboost\\xgboost-0.80.git\\src\\tree\\updater_prune.cc:74: tree pruning end, 1 roots, 16 extra nodes, 0 pruned nodes, max_depth=4\n",
      "[15:07:07] d:\\build\\xgboost\\xgboost-0.80.git\\src\\tree\\updater_prune.cc:74: tree pruning end, 1 roots, 26 extra nodes, 0 pruned nodes, max_depth=4\n",
      "[15:07:07] d:\\build\\xgboost\\xgboost-0.80.git\\src\\tree\\updater_prune.cc:74: tree pruning end, 1 roots, 18 extra nodes, 0 pruned nodes, max_depth=4\n",
      "[15:07:07] d:\\build\\xgboost\\xgboost-0.80.git\\src\\tree\\updater_prune.cc:74: tree pruning end, 1 roots, 30 extra nodes, 0 pruned nodes, max_depth=4\n",
      "[15:07:07] d:\\build\\xgboost\\xgboost-0.80.git\\src\\tree\\updater_prune.cc:74: tree pruning end, 1 roots, 26 extra nodes, 0 pruned nodes, max_depth=4\n",
      "[15:07:07] d:\\build\\xgboost\\xgboost-0.80.git\\src\\tree\\updater_prune.cc:74: tree pruning end, 1 roots, 30 extra nodes, 0 pruned nodes, max_depth=4\n",
      "[15:07:07] d:\\build\\xgboost\\xgboost-0.80.git\\src\\tree\\updater_prune.cc:74: tree pruning end, 1 roots, 20 extra nodes, 0 pruned nodes, max_depth=4\n",
      "[15:07:07] d:\\build\\xgboost\\xgboost-0.80.git\\src\\tree\\updater_prune.cc:74: tree pruning end, 1 roots, 20 extra nodes, 0 pruned nodes, max_depth=4\n",
      "[15:07:07] d:\\build\\xgboost\\xgboost-0.80.git\\src\\tree\\updater_prune.cc:74: tree pruning end, 1 roots, 30 extra nodes, 0 pruned nodes, max_depth=4\n",
      "[15:07:07] d:\\build\\xgboost\\xgboost-0.80.git\\src\\tree\\updater_prune.cc:74: tree pruning end, 1 roots, 24 extra nodes, 0 pruned nodes, max_depth=4\n",
      "[15:07:07] d:\\build\\xgboost\\xgboost-0.80.git\\src\\tree\\updater_prune.cc:74: tree pruning end, 1 roots, 28 extra nodes, 0 pruned nodes, max_depth=4\n",
      "[15:07:08] d:\\build\\xgboost\\xgboost-0.80.git\\src\\tree\\updater_prune.cc:74: tree pruning end, 1 roots, 28 extra nodes, 0 pruned nodes, max_depth=4\n",
      "[15:07:08] d:\\build\\xgboost\\xgboost-0.80.git\\src\\tree\\updater_prune.cc:74: tree pruning end, 1 roots, 26 extra nodes, 0 pruned nodes, max_depth=4\n",
      "[15:07:08] d:\\build\\xgboost\\xgboost-0.80.git\\src\\tree\\updater_prune.cc:74: tree pruning end, 1 roots, 30 extra nodes, 0 pruned nodes, max_depth=4\n",
      "[15:07:08] d:\\build\\xgboost\\xgboost-0.80.git\\src\\tree\\updater_prune.cc:74: tree pruning end, 1 roots, 30 extra nodes, 0 pruned nodes, max_depth=4\n",
      "[15:07:08] d:\\build\\xgboost\\xgboost-0.80.git\\src\\tree\\updater_prune.cc:74: tree pruning end, 1 roots, 20 extra nodes, 0 pruned nodes, max_depth=4\n",
      "[15:07:08] d:\\build\\xgboost\\xgboost-0.80.git\\src\\tree\\updater_prune.cc:74: tree pruning end, 1 roots, 26 extra nodes, 0 pruned nodes, max_depth=4\n",
      "[15:07:08] d:\\build\\xgboost\\xgboost-0.80.git\\src\\tree\\updater_prune.cc:74: tree pruning end, 1 roots, 28 extra nodes, 0 pruned nodes, max_depth=4\n",
      "[15:07:08] d:\\build\\xgboost\\xgboost-0.80.git\\src\\tree\\updater_prune.cc:74: tree pruning end, 1 roots, 30 extra nodes, 0 pruned nodes, max_depth=4\n",
      "[15:07:08] d:\\build\\xgboost\\xgboost-0.80.git\\src\\tree\\updater_prune.cc:74: tree pruning end, 1 roots, 30 extra nodes, 0 pruned nodes, max_depth=4\n",
      "[15:07:09] d:\\build\\xgboost\\xgboost-0.80.git\\src\\tree\\updater_prune.cc:74: tree pruning end, 1 roots, 24 extra nodes, 0 pruned nodes, max_depth=4\n",
      "[15:07:09] d:\\build\\xgboost\\xgboost-0.80.git\\src\\tree\\updater_prune.cc:74: tree pruning end, 1 roots, 20 extra nodes, 0 pruned nodes, max_depth=4\n",
      "[15:07:09] d:\\build\\xgboost\\xgboost-0.80.git\\src\\tree\\updater_prune.cc:74: tree pruning end, 1 roots, 20 extra nodes, 0 pruned nodes, max_depth=4\n",
      "[15:07:09] d:\\build\\xgboost\\xgboost-0.80.git\\src\\tree\\updater_prune.cc:74: tree pruning end, 1 roots, 22 extra nodes, 0 pruned nodes, max_depth=4\n",
      "[15:07:09] d:\\build\\xgboost\\xgboost-0.80.git\\src\\tree\\updater_prune.cc:74: tree pruning end, 1 roots, 30 extra nodes, 0 pruned nodes, max_depth=4\n",
      "[15:07:09] d:\\build\\xgboost\\xgboost-0.80.git\\src\\tree\\updater_prune.cc:74: tree pruning end, 1 roots, 18 extra nodes, 0 pruned nodes, max_depth=4\n",
      "[15:07:09] d:\\build\\xgboost\\xgboost-0.80.git\\src\\tree\\updater_prune.cc:74: tree pruning end, 1 roots, 28 extra nodes, 0 pruned nodes, max_depth=4\n",
      "[15:07:09] d:\\build\\xgboost\\xgboost-0.80.git\\src\\tree\\updater_prune.cc:74: tree pruning end, 1 roots, 28 extra nodes, 0 pruned nodes, max_depth=4\n"
     ]
    },
    {
     "name": "stdout",
     "output_type": "stream",
     "text": [
      "[15:07:09] d:\\build\\xgboost\\xgboost-0.80.git\\src\\tree\\updater_prune.cc:74: tree pruning end, 1 roots, 30 extra nodes, 0 pruned nodes, max_depth=4\n",
      "[15:07:09] d:\\build\\xgboost\\xgboost-0.80.git\\src\\tree\\updater_prune.cc:74: tree pruning end, 1 roots, 30 extra nodes, 0 pruned nodes, max_depth=4\n",
      "[15:07:10] d:\\build\\xgboost\\xgboost-0.80.git\\src\\tree\\updater_prune.cc:74: tree pruning end, 1 roots, 26 extra nodes, 0 pruned nodes, max_depth=4\n",
      "[15:07:10] d:\\build\\xgboost\\xgboost-0.80.git\\src\\tree\\updater_prune.cc:74: tree pruning end, 1 roots, 30 extra nodes, 0 pruned nodes, max_depth=4\n",
      "[15:07:10] d:\\build\\xgboost\\xgboost-0.80.git\\src\\tree\\updater_prune.cc:74: tree pruning end, 1 roots, 28 extra nodes, 0 pruned nodes, max_depth=4\n",
      "[15:07:10] d:\\build\\xgboost\\xgboost-0.80.git\\src\\tree\\updater_prune.cc:74: tree pruning end, 1 roots, 30 extra nodes, 0 pruned nodes, max_depth=4\n",
      "[15:07:10] d:\\build\\xgboost\\xgboost-0.80.git\\src\\tree\\updater_prune.cc:74: tree pruning end, 1 roots, 30 extra nodes, 0 pruned nodes, max_depth=4\n",
      "[15:07:10] d:\\build\\xgboost\\xgboost-0.80.git\\src\\tree\\updater_prune.cc:74: tree pruning end, 1 roots, 26 extra nodes, 0 pruned nodes, max_depth=4\n",
      "[15:07:10] d:\\build\\xgboost\\xgboost-0.80.git\\src\\tree\\updater_prune.cc:74: tree pruning end, 1 roots, 30 extra nodes, 0 pruned nodes, max_depth=4\n",
      "[15:07:10] d:\\build\\xgboost\\xgboost-0.80.git\\src\\tree\\updater_prune.cc:74: tree pruning end, 1 roots, 28 extra nodes, 0 pruned nodes, max_depth=4\n",
      "[15:07:10] d:\\build\\xgboost\\xgboost-0.80.git\\src\\tree\\updater_prune.cc:74: tree pruning end, 1 roots, 26 extra nodes, 0 pruned nodes, max_depth=4\n",
      "[15:07:11] d:\\build\\xgboost\\xgboost-0.80.git\\src\\tree\\updater_prune.cc:74: tree pruning end, 1 roots, 30 extra nodes, 0 pruned nodes, max_depth=4\n",
      "[15:07:11] d:\\build\\xgboost\\xgboost-0.80.git\\src\\tree\\updater_prune.cc:74: tree pruning end, 1 roots, 26 extra nodes, 0 pruned nodes, max_depth=4\n",
      "[15:07:11] d:\\build\\xgboost\\xgboost-0.80.git\\src\\tree\\updater_prune.cc:74: tree pruning end, 1 roots, 30 extra nodes, 0 pruned nodes, max_depth=4\n",
      "[15:07:11] d:\\build\\xgboost\\xgboost-0.80.git\\src\\tree\\updater_prune.cc:74: tree pruning end, 1 roots, 26 extra nodes, 0 pruned nodes, max_depth=4\n",
      "[15:07:11] d:\\build\\xgboost\\xgboost-0.80.git\\src\\tree\\updater_prune.cc:74: tree pruning end, 1 roots, 30 extra nodes, 0 pruned nodes, max_depth=4\n",
      "[15:07:11] d:\\build\\xgboost\\xgboost-0.80.git\\src\\tree\\updater_prune.cc:74: tree pruning end, 1 roots, 26 extra nodes, 2 pruned nodes, max_depth=4\n",
      "[15:07:11] d:\\build\\xgboost\\xgboost-0.80.git\\src\\tree\\updater_prune.cc:74: tree pruning end, 1 roots, 30 extra nodes, 0 pruned nodes, max_depth=4\n",
      "[15:07:11] d:\\build\\xgboost\\xgboost-0.80.git\\src\\tree\\updater_prune.cc:74: tree pruning end, 1 roots, 28 extra nodes, 0 pruned nodes, max_depth=4\n",
      "[15:07:12] d:\\build\\xgboost\\xgboost-0.80.git\\src\\tree\\updater_prune.cc:74: tree pruning end, 1 roots, 26 extra nodes, 0 pruned nodes, max_depth=4\n",
      "[15:07:12] d:\\build\\xgboost\\xgboost-0.80.git\\src\\tree\\updater_prune.cc:74: tree pruning end, 1 roots, 24 extra nodes, 0 pruned nodes, max_depth=4\n",
      "[15:07:12] d:\\build\\xgboost\\xgboost-0.80.git\\src\\tree\\updater_prune.cc:74: tree pruning end, 1 roots, 30 extra nodes, 0 pruned nodes, max_depth=4\n",
      "[15:07:12] d:\\build\\xgboost\\xgboost-0.80.git\\src\\tree\\updater_prune.cc:74: tree pruning end, 1 roots, 30 extra nodes, 0 pruned nodes, max_depth=4\n",
      "[15:07:12] d:\\build\\xgboost\\xgboost-0.80.git\\src\\tree\\updater_prune.cc:74: tree pruning end, 1 roots, 16 extra nodes, 0 pruned nodes, max_depth=4\n",
      "[15:07:12] d:\\build\\xgboost\\xgboost-0.80.git\\src\\tree\\updater_prune.cc:74: tree pruning end, 1 roots, 28 extra nodes, 0 pruned nodes, max_depth=4\n",
      "[15:07:12] d:\\build\\xgboost\\xgboost-0.80.git\\src\\tree\\updater_prune.cc:74: tree pruning end, 1 roots, 30 extra nodes, 0 pruned nodes, max_depth=4\n",
      "[15:07:12] d:\\build\\xgboost\\xgboost-0.80.git\\src\\tree\\updater_prune.cc:74: tree pruning end, 1 roots, 20 extra nodes, 0 pruned nodes, max_depth=4\n",
      "[15:07:13] d:\\build\\xgboost\\xgboost-0.80.git\\src\\tree\\updater_prune.cc:74: tree pruning end, 1 roots, 28 extra nodes, 0 pruned nodes, max_depth=4\n",
      "[15:07:13] d:\\build\\xgboost\\xgboost-0.80.git\\src\\tree\\updater_prune.cc:74: tree pruning end, 1 roots, 28 extra nodes, 0 pruned nodes, max_depth=4\n",
      "[15:07:13] d:\\build\\xgboost\\xgboost-0.80.git\\src\\tree\\updater_prune.cc:74: tree pruning end, 1 roots, 26 extra nodes, 0 pruned nodes, max_depth=4\n",
      "[15:07:13] d:\\build\\xgboost\\xgboost-0.80.git\\src\\tree\\updater_prune.cc:74: tree pruning end, 1 roots, 30 extra nodes, 0 pruned nodes, max_depth=4\n",
      "[15:07:13] d:\\build\\xgboost\\xgboost-0.80.git\\src\\tree\\updater_prune.cc:74: tree pruning end, 1 roots, 24 extra nodes, 2 pruned nodes, max_depth=4\n",
      "[15:07:13] d:\\build\\xgboost\\xgboost-0.80.git\\src\\tree\\updater_prune.cc:74: tree pruning end, 1 roots, 16 extra nodes, 0 pruned nodes, max_depth=4\n",
      "[15:07:13] d:\\build\\xgboost\\xgboost-0.80.git\\src\\tree\\updater_prune.cc:74: tree pruning end, 1 roots, 30 extra nodes, 0 pruned nodes, max_depth=4\n",
      "[15:07:14] d:\\build\\xgboost\\xgboost-0.80.git\\src\\tree\\updater_prune.cc:74: tree pruning end, 1 roots, 30 extra nodes, 0 pruned nodes, max_depth=4\n",
      "[15:07:14] d:\\build\\xgboost\\xgboost-0.80.git\\src\\tree\\updater_prune.cc:74: tree pruning end, 1 roots, 22 extra nodes, 0 pruned nodes, max_depth=4\n",
      "[15:07:14] d:\\build\\xgboost\\xgboost-0.80.git\\src\\tree\\updater_prune.cc:74: tree pruning end, 1 roots, 30 extra nodes, 0 pruned nodes, max_depth=4\n",
      "[15:07:14] d:\\build\\xgboost\\xgboost-0.80.git\\src\\tree\\updater_prune.cc:74: tree pruning end, 1 roots, 18 extra nodes, 0 pruned nodes, max_depth=4\n",
      "[15:07:14] d:\\build\\xgboost\\xgboost-0.80.git\\src\\tree\\updater_prune.cc:74: tree pruning end, 1 roots, 18 extra nodes, 0 pruned nodes, max_depth=4\n",
      "[15:07:14] d:\\build\\xgboost\\xgboost-0.80.git\\src\\tree\\updater_prune.cc:74: tree pruning end, 1 roots, 30 extra nodes, 0 pruned nodes, max_depth=4\n",
      "[15:07:14] d:\\build\\xgboost\\xgboost-0.80.git\\src\\tree\\updater_prune.cc:74: tree pruning end, 1 roots, 28 extra nodes, 0 pruned nodes, max_depth=4\n",
      "[15:07:15] d:\\build\\xgboost\\xgboost-0.80.git\\src\\tree\\updater_prune.cc:74: tree pruning end, 1 roots, 30 extra nodes, 0 pruned nodes, max_depth=4\n"
     ]
    }
   ],
   "source": [
    "xgdmat_train = xgb.DMatrix(X_train, y_train)\n",
    "xgdmat_test = xgb.DMatrix(X_test, y_test)\n",
    "xgb_final = xgb.train(final_params, xgdmat_train, num_boost_round = 100, callbacks = [xgb.callback.reset_learning_rate(lrs)])"
   ]
  },
  {
   "cell_type": "code",
   "execution_count": 372,
   "metadata": {},
   "outputs": [],
   "source": [
    "from sklearn.metrics import confusion_matrix, roc_curve, roc_auc_score, f1_score, precision_recall_curve\n",
    "def plot_confusion_matrix(cm, classes,\n",
    "                          normalize=False,\n",
    "                          title='Confusion matrix',\n",
    "                          cmap=plt.cm.Blues):\n",
    "    \"\"\"\n",
    "    This function prints and plots the confusion matrix.\n",
    "    Normalization can be applied by setting `normalize=True`.\n",
    "    \"\"\"\n",
    "    plt.imshow(cm, interpolation='nearest', cmap=cmap)\n",
    "    plt.title(title)\n",
    "    plt.colorbar()\n",
    "    tick_marks = np.arange(len(classes))\n",
    "    plt.xticks(tick_marks, classes, rotation=45)\n",
    "    plt.yticks(tick_marks, classes)\n",
    "\n",
    "    if normalize:\n",
    "        cm = cm.astype('float') / cm.sum(axis=1)[:, np.newaxis]\n",
    "    thresh = cm.max() / 2.\n",
    "    for i, j in itertools.product(range(cm.shape[0]), range(cm.shape[1])):\n",
    "        plt.text(j, i, cm[i, j],\n",
    "                 horizontalalignment=\"center\",\n",
    "                 color=\"white\" if cm[i, j] > thresh else \"black\")\n",
    "\n",
    "    plt.tight_layout()\n",
    "    plt.ylabel('True label')\n",
    "    plt.xlabel('Predicted label')\n",
    "    plt.show()\n",
    "    \n",
    "def show_data(cm, print_res = 0):\n",
    "    tp = cm[1,1]\n",
    "    fn = cm[1,0]\n",
    "    fp = cm[0,1]\n",
    "    tn = cm[0,0]\n",
    "    if print_res == 1:\n",
    "        print('Precision =     {:.3f}'.format(tp/(tp+fp)))\n",
    "        print('Recall (TPR) =  {:.3f}'.format(tp/(tp+fn)))\n",
    "        print('Fallout (FPR) = {:.3e}'.format(fp/(fp+tn)))\n",
    "    return tp/(tp+fp), tp/(tp+fn), fp/(fp+tn)"
   ]
  },
  {
   "cell_type": "code",
   "execution_count": 374,
   "metadata": {},
   "outputs": [
    {
     "data": {
      "image/png": "[encoded data removed]",
      "text/plain": [
       "<Figure size 432x288 with 2 Axes>"
      ]
     },
     "metadata": {
      "needs_background": "light"
     },
     "output_type": "display_data"
    },
    {
     "name": "stdout",
     "output_type": "stream",
     "text": [
      "Precision =     0.438\n",
      "Recall (TPR) =  0.030\n",
      "Fallout (FPR) = 1.807e-02\n"
     ]
    }
   ],
   "source": [
    "import itertools\n",
    "\n",
    "y_pred = xgb_final.predict(xgdmat_test)\n",
    "thresh = 0.7\n",
    "y_pred [y_pred > thresh] = 1\n",
    "y_pred [y_pred <= thresh] = 0\n",
    "cm = confusion_matrix(y_test, y_pred)\n",
    "plot_confusion_matrix(cm, ['0', '1'], )\n",
    "pr, tpr, fpr = show_data(cm, print_res = 1);"
   ]
  },
  {
   "cell_type": "code",
   "execution_count": null,
   "metadata": {},
   "outputs": [],
   "source": [
    "xgdmat_wk3 = xgb.DMatrix(x[3648:],y[3648:])\n",
    "pred = xgb_final.predict(xgdmat_wk3)\n",
    "\n",
    "\n",
    "dfwk3 = pd.read_csv('clean_data.csv',header=0, sep=',')\n",
    "dfwk32 = pd.DataFrame(dfwk3['team'][3648:])\n",
    "dfwk3 = dfwk32.values\n",
    "wk3 = pd.DataFrame(dfwk3,pred)"
   ]
  },
  {
   "cell_type": "code",
   "execution_count": null,
   "metadata": {},
   "outputs": [],
   "source": [
    "wk3.to_csv('wk3-3fg.csv', sep='|')"
   ]
  },
  {
   "cell_type": "code",
   "execution_count": null,
   "metadata": {},
   "outputs": [],
   "source": [
    "feat_importance = xgb_final.get_fscore()\n",
    "feat_importance2 = [(v, feat_importance[v]) for v in sorted(feat_importance, key=feat_importance.get, reverse = True)]\n",
    "    \n",
    "feat_importance2 = pd.DataFrame(feat_importance2,)\n",
    "\n",
    "feat_importance2\n",
    "#plt.bar(range(feat_importance[0]), feat_importance[1])\n",
    "#plt.show()"
   ]
  },
  {
   "cell_type": "code",
   "execution_count": null,
   "metadata": {},
   "outputs": [],
   "source": []
  },
  {
   "cell_type": "code",
   "execution_count": null,
   "metadata": {},
   "outputs": [],
   "source": []
  }
 ],
 "metadata": {
  "kernelspec": {
   "display_name": "Python 3",
   "language": "python",
   "name": "python3"
  },
  "language_info": {
   "codemirror_mode": {
    "name": "ipython",
    "version": 3
   },
   "file_extension": ".py",
   "mimetype": "text/x-python",
   "name": "python",
   "nbconvert_exporter": "python",
   "pygments_lexer": "ipython3",
   "version": "3.6.3"
  }
 },
 "nbformat": 4,
 "nbformat_minor": 2
}
